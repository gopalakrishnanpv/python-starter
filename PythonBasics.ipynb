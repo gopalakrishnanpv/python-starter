{
 "cells": [
  {
   "cell_type": "markdown",
   "metadata": {},
   "source": [
    "# Python Basics"
   ]
  },
  {
   "cell_type": "markdown",
   "metadata": {},
   "source": [
    "## Imports"
   ]
  },
  {
   "cell_type": "code",
   "execution_count": 28,
   "metadata": {},
   "outputs": [],
   "source": [
    "import sys\n",
    "import keyword\n",
    "import operator\n",
    "from datetime import datetime\n",
    "import os"
   ]
  },
  {
   "cell_type": "markdown",
   "metadata": {},
   "source": [
    "## Keywords"
   ]
  },
  {
   "cell_type": "markdown",
   "metadata": {},
   "source": [
    "Keywords are reserved words in python and cannot be used as identifiers\n"
   ]
  },
  {
   "cell_type": "code",
   "execution_count": 29,
   "metadata": {},
   "outputs": [
    {
     "name": "stdout",
     "output_type": "stream",
     "text": [
      "['False', 'None', 'True', '__peg_parser__', 'and', 'as', 'assert', 'async', 'await', 'break', 'class', 'continue', 'def', 'del', 'elif', 'else', 'except', 'finally', 'for', 'from', 'global', 'if', 'import', 'in', 'is', 'lambda', 'nonlocal', 'not', 'or', 'pass', 'raise', 'return', 'try', 'while', 'with', 'yield']\n"
     ]
    },
    {
     "data": {
      "text/plain": [
       "36"
      ]
     },
     "execution_count": 29,
     "metadata": {},
     "output_type": "execute_result"
    }
   ],
   "source": [
    "print(keyword.kwlist)\n",
    "len(keyword.kwlist) # Python contains 36 keywords"
   ]
  },
  {
   "cell_type": "markdown",
   "metadata": {},
   "source": [
    "## Identifiers"
   ]
  },
  {
   "cell_type": "markdown",
   "metadata": {},
   "source": [
    "An identifier is a name given to entities like class, functions, variables, etc. It helps to differentiate one entity from another."
   ]
  },
  {
   "cell_type": "code",
   "execution_count": 30,
   "metadata": {},
   "outputs": [
    {
     "ename": "SyntaxError",
     "evalue": "invalid syntax (2183624609.py, line 1)",
     "output_type": "error",
     "traceback": [
      "\u001b[1;36m  Input \u001b[1;32mIn [30]\u001b[1;36m\u001b[0m\n\u001b[1;33m    1var = 10 # Identifier cannot start with a digit\u001b[0m\n\u001b[1;37m     ^\u001b[0m\n\u001b[1;31mSyntaxError\u001b[0m\u001b[1;31m:\u001b[0m invalid syntax\n"
     ]
    }
   ],
   "source": [
    "1var = 10 # Identifier cannot start with a digit"
   ]
  },
  {
   "cell_type": "code",
   "execution_count": null,
   "metadata": {},
   "outputs": [
    {
     "ename": "SyntaxError",
     "evalue": "invalid syntax (3271491916.py, line 1)",
     "output_type": "error",
     "traceback": [
      "\u001b[1;36m  Input \u001b[1;32mIn [16]\u001b[1;36m\u001b[0m\n\u001b[1;33m    var2@ = 10 # Identifier cannot use special symbols\u001b[0m\n\u001b[1;37m          ^\u001b[0m\n\u001b[1;31mSyntaxError\u001b[0m\u001b[1;31m:\u001b[0m invalid syntax\n"
     ]
    }
   ],
   "source": [
    "var2@ = 10 # Identifier cannot use special symbols"
   ]
  },
  {
   "cell_type": "code",
   "execution_count": null,
   "metadata": {},
   "outputs": [
    {
     "ename": "SyntaxError",
     "evalue": "invalid syntax (1687524801.py, line 1)",
     "output_type": "error",
     "traceback": [
      "\u001b[1;36m  Input \u001b[1;32mIn [17]\u001b[1;36m\u001b[0m\n\u001b[1;33m    import = 10 # Keywords cannot be used as identifiers\u001b[0m\n\u001b[1;37m           ^\u001b[0m\n\u001b[1;31mSyntaxError\u001b[0m\u001b[1;31m:\u001b[0m invalid syntax\n"
     ]
    }
   ],
   "source": [
    "import = 10 # Keywords cannot be used as identifiers"
   ]
  },
  {
   "cell_type": "markdown",
   "metadata": {},
   "source": [
    "An identifier can be a combination of letters, numbers and underscore."
   ]
  },
  {
   "cell_type": "code",
   "execution_count": null,
   "metadata": {},
   "outputs": [],
   "source": [
    "# Some valid identifiers\n",
    "var = 10\n",
    "var2 = 20\n",
    "var_ = 30"
   ]
  },
  {
   "cell_type": "markdown",
   "metadata": {},
   "source": [
    "## Comments"
   ]
  },
  {
   "cell_type": "markdown",
   "metadata": {},
   "source": [
    "Comments can be used to explain the code for more readability"
   ]
  },
  {
   "cell_type": "code",
   "execution_count": null,
   "metadata": {},
   "outputs": [
    {
     "data": {
      "text/plain": [
       "'\\nMultiple\\nline\\ncomment\\n'"
      ]
     },
     "execution_count": 24,
     "metadata": {},
     "output_type": "execute_result"
    }
   ],
   "source": [
    "# Single line comment\n",
    "\n",
    "'''\n",
    "Multiple\n",
    "line\n",
    "comment\n",
    "'''\n",
    "\n",
    "\"\"\"\n",
    "Multiple\n",
    "line\n",
    "comment\n",
    "\"\"\""
   ]
  },
  {
   "cell_type": "markdown",
   "metadata": {},
   "source": [
    "## Statements"
   ]
  },
  {
   "cell_type": "code",
   "execution_count": null,
   "metadata": {},
   "outputs": [
    {
     "data": {
      "text/plain": [
       "30"
      ]
     },
     "execution_count": 25,
     "metadata": {},
     "output_type": "execute_result"
    }
   ],
   "source": [
    "sum = 10 + 20\n",
    "sum"
   ]
  },
  {
   "cell_type": "code",
   "execution_count": null,
   "metadata": {},
   "outputs": [
    {
     "data": {
      "text/plain": [
       "['one', 'two', 'three', 'four']"
      ]
     },
     "execution_count": 26,
     "metadata": {},
     "output_type": "execute_result"
    }
   ],
   "source": [
    "plist = ['one', 'two', 'three', 'four']\n",
    "plist"
   ]
  },
  {
   "cell_type": "code",
   "execution_count": null,
   "metadata": {},
   "outputs": [
    {
     "data": {
      "text/plain": [
       "100"
      ]
     },
     "execution_count": 29,
     "metadata": {},
     "output_type": "execute_result"
    }
   ],
   "source": [
    "add = 10 \\\n",
    "    + 20 \\\n",
    "    + 30 \\\n",
    "    + 40\n",
    "add\n",
    "        "
   ]
  },
  {
   "cell_type": "markdown",
   "metadata": {},
   "source": [
    "## Indentation"
   ]
  },
  {
   "cell_type": "markdown",
   "metadata": {},
   "source": [
    "Indentation is important in python as it indicates the block of code."
   ]
  },
  {
   "cell_type": "code",
   "execution_count": null,
   "metadata": {},
   "outputs": [
    {
     "name": "stdout",
     "output_type": "stream",
     "text": [
      "A is equal to 10\n"
     ]
    }
   ],
   "source": [
    "a = 10\n",
    "if a == 10:\n",
    "    print ('A is equal to 10') # Correct indentation"
   ]
  },
  {
   "cell_type": "code",
   "execution_count": null,
   "metadata": {},
   "outputs": [
    {
     "ename": "IndentationError",
     "evalue": "expected an indented block (1932055555.py, line 3)",
     "output_type": "error",
     "traceback": [
      "\u001b[1;36m  Input \u001b[1;32mIn [35]\u001b[1;36m\u001b[0m\n\u001b[1;33m    print (\"A is equal to 10\") #IndentationError expected an indented block\u001b[0m\n\u001b[1;37m    ^\u001b[0m\n\u001b[1;31mIndentationError\u001b[0m\u001b[1;31m:\u001b[0m expected an indented block\n"
     ]
    }
   ],
   "source": [
    "a = 10\n",
    "if a == 10:\n",
    "print (\"A is equal to 10\") #IndentationError expected an indented block"
   ]
  },
  {
   "cell_type": "code",
   "execution_count": null,
   "metadata": {},
   "outputs": [
    {
     "name": "stdout",
     "output_type": "stream",
     "text": [
      "0\n",
      "1\n",
      "2\n",
      "3\n",
      "4\n",
      "5\n",
      "6\n",
      "7\n",
      "8\n",
      "9\n"
     ]
    }
   ],
   "source": [
    "for i in range(10):\n",
    "    print(i) # Correct indentation"
   ]
  },
  {
   "cell_type": "code",
   "execution_count": null,
   "metadata": {},
   "outputs": [
    {
     "ename": "IndentationError",
     "evalue": "expected an indented block (705952513.py, line 2)",
     "output_type": "error",
     "traceback": [
      "\u001b[1;36m  Input \u001b[1;32mIn [39]\u001b[1;36m\u001b[0m\n\u001b[1;33m    print(i) # IndentationError expected an indented block\u001b[0m\n\u001b[1;37m    ^\u001b[0m\n\u001b[1;31mIndentationError\u001b[0m\u001b[1;31m:\u001b[0m expected an indented block\n"
     ]
    }
   ],
   "source": [
    "for i in range(10):\n",
    "print(i) # IndentationError expected an indented block"
   ]
  },
  {
   "cell_type": "markdown",
   "metadata": {},
   "source": [
    "## Docstrings"
   ]
  },
  {
   "cell_type": "markdown",
   "metadata": {},
   "source": [
    "Docstrings provide a convenient way of associating documentation to functions, class or module </br>\n",
    "It appears right after the function definition"
   ]
  },
  {
   "cell_type": "code",
   "execution_count": null,
   "metadata": {},
   "outputs": [
    {
     "data": {
      "text/plain": [
       "36"
      ]
     },
     "execution_count": 40,
     "metadata": {},
     "output_type": "execute_result"
    }
   ],
   "source": [
    "def square(num):\n",
    "    '''Returns the square of the given number.'''\n",
    "    return num * num\n",
    "\n",
    "square(6)"
   ]
  },
  {
   "cell_type": "code",
   "execution_count": null,
   "metadata": {},
   "outputs": [
    {
     "data": {
      "text/plain": [
       "'Returns the square of the given number.'"
      ]
     },
     "execution_count": 41,
     "metadata": {},
     "output_type": "execute_result"
    }
   ],
   "source": [
    "square.__doc__ # Documention of the function can be accessed with __doc__"
   ]
  },
  {
   "cell_type": "code",
   "execution_count": null,
   "metadata": {},
   "outputs": [
    {
     "name": "stdout",
     "output_type": "stream",
     "text": [
      "Finds if the given number is add or even.\n",
      "3 is odd number\n",
      "6 is even number\n"
     ]
    }
   ],
   "source": [
    "def evenorodd(num):\n",
    "    '''Finds if the given number is add or even.'''\n",
    "    if num % 2 == 0:\n",
    "        print(str(num) + ' is even number')\n",
    "    else:\n",
    "        print(str(num) + ' is odd number')\n",
    "\n",
    "print(evenorodd.__doc__)\n",
    "\n",
    "evenorodd(3)\n",
    "evenorodd(6)"
   ]
  },
  {
   "cell_type": "markdown",
   "metadata": {},
   "source": [
    "## Variables"
   ]
  },
  {
   "cell_type": "markdown",
   "metadata": {},
   "source": [
    "A Python variable is a reserved memory location to store values. A variable is created at the moment you assign a value to it."
   ]
  },
  {
   "cell_type": "code",
   "execution_count": null,
   "metadata": {},
   "outputs": [
    {
     "name": "stdout",
     "output_type": "stream",
     "text": [
      "10\n",
      "1573552941648\n",
      "0x16e5f106a50\n"
     ]
    }
   ],
   "source": [
    "a = 10\n",
    "print(a)\n",
    "print(id(a)) # ID is always an integer, unique and constant during its lifetime.\n",
    "print(hex(id(a))) # Memory address of the variable"
   ]
  },
  {
   "cell_type": "code",
   "execution_count": null,
   "metadata": {},
   "outputs": [
    {
     "name": "stdout",
     "output_type": "stream",
     "text": [
      "10 <class 'int'> 1573552941648 0x16e5f106a50\n",
      "10 <class 'int'> 1573552941648 0x16e5f106a50\n",
      "10 <class 'int'> 1573552941648 0x16e5f106a50\n"
     ]
    }
   ],
   "source": [
    "p = 10\n",
    "q = 10\n",
    "r = q\n",
    "print(p, type(p), id(p), hex(id(p)))\n",
    "print(q, type(q), id(q), hex(id(q)))\n",
    "print(r, type(r), id(r), hex(id(r)))"
   ]
  },
  {
   "cell_type": "code",
   "execution_count": null,
   "metadata": {},
   "outputs": [
    {
     "data": {
      "text/plain": [
       "20"
      ]
     },
     "execution_count": 6,
     "metadata": {},
     "output_type": "execute_result"
    }
   ],
   "source": [
    "p = p + 10 # Variable overwriting\n",
    "p"
   ]
  },
  {
   "cell_type": "code",
   "execution_count": null,
   "metadata": {},
   "outputs": [
    {
     "name": "stdout",
     "output_type": "stream",
     "text": [
      "10\n",
      "10.5\n",
      "String variable\n"
     ]
    }
   ],
   "source": [
    "intvar = 10\n",
    "floatvar = 10.5\n",
    "stringvar = 'String variable'\n",
    "\n",
    "print(intvar)\n",
    "print(floatvar)\n",
    "print(stringvar)\n"
   ]
  },
  {
   "cell_type": "code",
   "execution_count": null,
   "metadata": {},
   "outputs": [
    {
     "name": "stdout",
     "output_type": "stream",
     "text": [
      "10\n",
      "10.5\n",
      "String variable\n"
     ]
    }
   ],
   "source": [
    "intvar, floatvar, stringvar = 10, 10.5, 'String variable'\n",
    "\n",
    "print(intvar)\n",
    "print(floatvar)\n",
    "print(stringvar)\n"
   ]
  },
  {
   "cell_type": "code",
   "execution_count": null,
   "metadata": {},
   "outputs": [
    {
     "name": "stdout",
     "output_type": "stream",
     "text": [
      "10 10 10 10\n"
     ]
    }
   ],
   "source": [
    "a = b = c = d = 10\n",
    "print(a, b, c, d)"
   ]
  },
  {
   "cell_type": "markdown",
   "metadata": {},
   "source": [
    "## Datatypes"
   ]
  },
  {
   "cell_type": "markdown",
   "metadata": {},
   "source": [
    "### Numeric"
   ]
  },
  {
   "cell_type": "code",
   "execution_count": null,
   "metadata": {},
   "outputs": [
    {
     "name": "stdout",
     "output_type": "stream",
     "text": [
      "10\n",
      "<class 'int'>\n",
      "28\n",
      "10 Is Integer? True\n"
     ]
    }
   ],
   "source": [
    "val1 = 10 # Integer data type\n",
    "print(val1)\n",
    "print(type(val1))\n",
    "print(sys.getsizeof(val1))\n",
    "print(val1, 'Is Integer?', isinstance(val1, int))"
   ]
  },
  {
   "cell_type": "code",
   "execution_count": null,
   "metadata": {},
   "outputs": [
    {
     "name": "stdout",
     "output_type": "stream",
     "text": [
      "10.5\n",
      "<class 'float'>\n",
      "24\n",
      "10.5 Is Float? True\n"
     ]
    }
   ],
   "source": [
    "val1 = 10.5 # Float data type\n",
    "print(val1)\n",
    "print(type(val1))\n",
    "print(sys.getsizeof(val1))\n",
    "print(val1, 'Is Float?', isinstance(val1, float))"
   ]
  },
  {
   "cell_type": "code",
   "execution_count": null,
   "metadata": {},
   "outputs": [
    {
     "name": "stdout",
     "output_type": "stream",
     "text": [
      "10j\n",
      "<class 'complex'>\n",
      "32\n",
      "10j Is Complex? True\n"
     ]
    }
   ],
   "source": [
    "val1 = 10j # Complex data type\n",
    "print(val1)\n",
    "print(type(val1))\n",
    "print(sys.getsizeof(val1))\n",
    "print(val1, 'Is Complex?', isinstance(val1, complex))"
   ]
  },
  {
   "cell_type": "code",
   "execution_count": null,
   "metadata": {},
   "outputs": [
    {
     "name": "stdout",
     "output_type": "stream",
     "text": [
      "24\n",
      "24\n",
      "32\n"
     ]
    }
   ],
   "source": [
    "print(sys.getsizeof(int()))\n",
    "print(sys.getsizeof(float()))\n",
    "print(sys.getsizeof(complex()))"
   ]
  },
  {
   "cell_type": "markdown",
   "metadata": {},
   "source": [
    "### Boolean"
   ]
  },
  {
   "cell_type": "markdown",
   "metadata": {},
   "source": [
    "Boolean can have only two values. Either true or false."
   ]
  },
  {
   "cell_type": "code",
   "execution_count": null,
   "metadata": {},
   "outputs": [
    {
     "name": "stdout",
     "output_type": "stream",
     "text": [
      "True False\n"
     ]
    }
   ],
   "source": [
    "bool1 = True\n",
    "bool2 = False\n",
    "\n",
    "print(bool1, bool2)"
   ]
  },
  {
   "cell_type": "code",
   "execution_count": null,
   "metadata": {},
   "outputs": [
    {
     "name": "stdout",
     "output_type": "stream",
     "text": [
      "False\n",
      "False\n",
      "False\n",
      "False\n",
      "True\n",
      "True\n",
      "True\n"
     ]
    }
   ],
   "source": [
    "print(bool(0))\n",
    "print(bool(None))\n",
    "print(bool(False))\n",
    "print(bool(''))\n",
    "print(bool(1))\n",
    "print(bool(True))\n",
    "print(bool('Hello'))"
   ]
  },
  {
   "cell_type": "markdown",
   "metadata": {},
   "source": [
    "### Strings"
   ]
  },
  {
   "cell_type": "markdown",
   "metadata": {},
   "source": [
    "#### String Creation"
   ]
  },
  {
   "cell_type": "code",
   "execution_count": 9,
   "metadata": {},
   "outputs": [
    {
     "name": "stdout",
     "output_type": "stream",
     "text": [
      "Hello Python\n",
      "Hello Python\n",
      "Hello\n",
      "Python\n",
      "Hello\n",
      "Python\n",
      "('Happy', 'Weekend', 'Everyone')\n"
     ]
    }
   ],
   "source": [
    "str1 = 'Hello Python' # Using single quotes\n",
    "str2 = \"Hello Python\" # Using double quotes\n",
    "str3 = '''Hello\n",
    "Python''' # Using triple single quotes\n",
    "str4 = \"\"\"Hello\n",
    "Python\"\"\" # Using triple double quotes\n",
    "str5 =('Happy',\n",
    "       'Weekend',\n",
    "       'Everyone')\n",
    "print(str1)\n",
    "print(str2)\n",
    "print(str3)\n",
    "print(str4)\n",
    "print(str5)"
   ]
  },
  {
   "cell_type": "code",
   "execution_count": 15,
   "metadata": {},
   "outputs": [
    {
     "name": "stdout",
     "output_type": "stream",
     "text": [
      "Woohoo \n",
      "7\n",
      "Woohoo Woohoo Woohoo Woohoo Woohoo \n",
      "35\n"
     ]
    }
   ],
   "source": [
    "mystr = 'Woohoo '\n",
    "print(mystr)\n",
    "print(len(mystr))\n",
    "mystr = mystr * 5\n",
    "print(mystr)\n",
    "print(len(mystr))"
   ]
  },
  {
   "cell_type": "markdown",
   "metadata": {},
   "source": [
    "#### String Indexing"
   ]
  },
  {
   "cell_type": "code",
   "execution_count": 5,
   "metadata": {},
   "outputs": [
    {
     "name": "stdout",
     "output_type": "stream",
     "text": [
      "H\n",
      "n\n",
      "n\n",
      "P\n"
     ]
    }
   ],
   "source": [
    "str1 = 'Hello Python'\n",
    "print(str1[0]) # Print first character\n",
    "print(str1[len(str1) - 1]) # Print last character\n",
    "print(str1[-1]) # Print last character\n",
    "print(str1[6]) # Print 7th character"
   ]
  },
  {
   "cell_type": "markdown",
   "metadata": {},
   "source": [
    "#### String Slicing"
   ]
  },
  {
   "cell_type": "code",
   "execution_count": 14,
   "metadata": {},
   "outputs": [
    {
     "name": "stdout",
     "output_type": "stream",
     "text": [
      "Hello\n",
      "Python\n",
      "thon\n",
      "Python\n",
      "Hell\n",
      "Hello \n"
     ]
    }
   ],
   "source": [
    "str1 = 'Hello Python'\n",
    "print(str1[0:5]) # Fetch from index 0 to index 4\n",
    "print(str1[6:12]) # Fetch from index 6 to index 11\n",
    "print(str1[-4:]) # Fetch last 4 characters\n",
    "print(str1[-6:]) # Fetch last 4 characters\n",
    "print(str1[:4]) # Fetch first 4 characters\n",
    "print(str1[:6]) # Fetch first 6 characters"
   ]
  },
  {
   "cell_type": "markdown",
   "metadata": {},
   "source": [
    "#### Update & Delete String"
   ]
  },
  {
   "cell_type": "markdown",
   "metadata": {},
   "source": [
    "Strings are immutable and the value cannot be changed once it is assigned"
   ]
  },
  {
   "cell_type": "code",
   "execution_count": 16,
   "metadata": {},
   "outputs": [
    {
     "ename": "TypeError",
     "evalue": "'str' object does not support item assignment",
     "output_type": "error",
     "traceback": [
      "\u001b[1;31m---------------------------------------------------------------------------\u001b[0m",
      "\u001b[1;31mTypeError\u001b[0m                                 Traceback (most recent call last)",
      "\u001b[1;32md:\\Projects\\Python\\PythonBasics.ipynb Cell 60'\u001b[0m in \u001b[0;36m<cell line: 2>\u001b[1;34m()\u001b[0m\n\u001b[0;32m      <a href='vscode-notebook-cell:/d%3A/Projects/Python/PythonBasics.ipynb#ch0000063?line=0'>1</a>\u001b[0m str1 \u001b[39m=\u001b[39m \u001b[39m'\u001b[39m\u001b[39mHello Python\u001b[39m\u001b[39m'\u001b[39m\n\u001b[1;32m----> <a href='vscode-notebook-cell:/d%3A/Projects/Python/PythonBasics.ipynb#ch0000063?line=1'>2</a>\u001b[0m str1[\u001b[39m0\u001b[39m:\u001b[39m5\u001b[39m] \u001b[39m=\u001b[39m \u001b[39m'\u001b[39m\u001b[39mHolaa\u001b[39m\u001b[39m'\u001b[39m\n",
      "\u001b[1;31mTypeError\u001b[0m: 'str' object does not support item assignment"
     ]
    }
   ],
   "source": [
    "str1 = 'Hello Python'\n",
    "str1[0:5] = 'Holaa'"
   ]
  },
  {
   "cell_type": "code",
   "execution_count": 18,
   "metadata": {},
   "outputs": [
    {
     "ename": "NameError",
     "evalue": "name 'str1' is not defined",
     "output_type": "error",
     "traceback": [
      "\u001b[1;31m---------------------------------------------------------------------------\u001b[0m",
      "\u001b[1;31mNameError\u001b[0m                                 Traceback (most recent call last)",
      "\u001b[1;32md:\\Projects\\Python\\PythonBasics.ipynb Cell 61'\u001b[0m in \u001b[0;36m<cell line: 1>\u001b[1;34m()\u001b[0m\n\u001b[1;32m----> <a href='vscode-notebook-cell:/d%3A/Projects/Python/PythonBasics.ipynb#ch0000064?line=0'>1</a>\u001b[0m \u001b[39mdel\u001b[39;00m(str1) \u001b[39m# Delete a string\u001b[39;00m\n\u001b[0;32m      <a href='vscode-notebook-cell:/d%3A/Projects/Python/PythonBasics.ipynb#ch0000064?line=1'>2</a>\u001b[0m str1\n",
      "\u001b[1;31mNameError\u001b[0m: name 'str1' is not defined"
     ]
    }
   ],
   "source": [
    "del(str1) # Delete a string\n",
    "str1"
   ]
  },
  {
   "cell_type": "markdown",
   "metadata": {},
   "source": [
    "#### String Concatenation"
   ]
  },
  {
   "cell_type": "code",
   "execution_count": 21,
   "metadata": {},
   "outputs": [
    {
     "name": "stdout",
     "output_type": "stream",
     "text": [
      "Hello Python\n"
     ]
    }
   ],
   "source": [
    "s1 = 'Hello'\n",
    "s2 = 'Python'\n",
    "s3 = s1 + \" \" + s2\n",
    "print(s3)"
   ]
  },
  {
   "cell_type": "markdown",
   "metadata": {},
   "source": [
    "#### Iterating through a string"
   ]
  },
  {
   "cell_type": "code",
   "execution_count": 22,
   "metadata": {},
   "outputs": [
    {
     "name": "stdout",
     "output_type": "stream",
     "text": [
      "H\n",
      "e\n",
      "l\n",
      "l\n",
      "o\n",
      " \n",
      "P\n",
      "y\n",
      "t\n",
      "h\n",
      "o\n",
      "n\n"
     ]
    }
   ],
   "source": [
    "str1 = 'Hello Python'\n",
    "for i in str1:\n",
    "    print(i)"
   ]
  },
  {
   "cell_type": "code",
   "execution_count": 23,
   "metadata": {},
   "outputs": [
    {
     "name": "stdout",
     "output_type": "stream",
     "text": [
      "(0, 'H')\n",
      "(1, 'e')\n",
      "(2, 'l')\n",
      "(3, 'l')\n",
      "(4, 'o')\n",
      "(5, ' ')\n",
      "(6, 'P')\n",
      "(7, 'y')\n",
      "(8, 't')\n",
      "(9, 'h')\n",
      "(10, 'o')\n",
      "(11, 'n')\n"
     ]
    }
   ],
   "source": [
    "for i in enumerate(str1): # Enumerate method adds a counter to an iterable.\n",
    "    print(i)"
   ]
  },
  {
   "cell_type": "code",
   "execution_count": null,
   "metadata": {},
   "outputs": [
    {
     "data": {
      "text/plain": [
       "[(0, 'H'),\n",
       " (1, 'e'),\n",
       " (2, 'l'),\n",
       " (3, 'l'),\n",
       " (4, 'o'),\n",
       " (5, ' '),\n",
       " (6, 'P'),\n",
       " (7, 'y'),\n",
       " (8, 't'),\n",
       " (9, 'h'),\n",
       " (10, 'o'),\n",
       " (11, 'n')]"
      ]
     },
     "execution_count": 25,
     "metadata": {},
     "output_type": "execute_result"
    }
   ],
   "source": [
    "list(enumerate(str1))"
   ]
  },
  {
   "cell_type": "markdown",
   "metadata": {},
   "source": [
    "#### String Membership"
   ]
  },
  {
   "cell_type": "code",
   "execution_count": 31,
   "metadata": {},
   "outputs": [
    {
     "name": "stdout",
     "output_type": "stream",
     "text": [
      "True\n",
      "True\n",
      "True\n",
      "False\n",
      "False\n"
     ]
    }
   ],
   "source": [
    "str1 = 'Hello Python'\n",
    "print('o' in str1)\n",
    "print('el' in str1) # Multiple characters\n",
    "print('h' in str1) # Case insensitive\n",
    "print('i' in str1)\n",
    "print('pt' in str1) # Order is important"
   ]
  },
  {
   "cell_type": "markdown",
   "metadata": {},
   "source": [
    "#### String Partitioning"
   ]
  },
  {
   "cell_type": "markdown",
   "metadata": {},
   "source": [
    "Partioning searches a specific string and splits the string multiple partitions\n",
    "\n",
    "1) First part is the string before the argument string\n",
    "2) Second part is the argument string\n",
    "3) Third part is the string after the argument string"
   ]
  },
  {
   "cell_type": "code",
   "execution_count": 33,
   "metadata": {},
   "outputs": [
    {
     "name": "stdout",
     "output_type": "stream",
     "text": [
      "('Natural language processing with Python ', 'and', ' R and Java')\n",
      "('Natural language processing with Python and R ', 'and', ' Java')\n"
     ]
    }
   ],
   "source": [
    "str1 = 'Natural language processing with Python and R and Java'\n",
    "str2 = str1.partition('and') # Partition from the left side\n",
    "print(str2)\n",
    "str3 = str1.rpartition('and') # Partition from the right side\n",
    "print(str3)"
   ]
  },
  {
   "cell_type": "markdown",
   "metadata": {},
   "source": [
    "#### String Functions"
   ]
  },
  {
   "cell_type": "markdown",
   "metadata": {},
   "source": [
    "##### Strip"
   ]
  },
  {
   "cell_type": "code",
   "execution_count": 40,
   "metadata": {},
   "outputs": [
    {
     "name": "stdout",
     "output_type": "stream",
     "text": [
      "     Hello Everyone         \n",
      "Hello Everyone\n",
      "Hello Everyone         \n",
      "     Hello Everyone\n",
      " Hello Everyone *************** All the Best \n",
      " Hello Everyone *************** All the Best ***************\n",
      "*************** Hello Everyone *************** All the Best \n"
     ]
    }
   ],
   "source": [
    "str2 = '     Hello Python         '\n",
    "print(str2)\n",
    "print(str2.strip()) # Removes the extra spaces on both sides \n",
    "print(str2.lstrip()) # Removes the extra spaces on the left side\n",
    "print(str2.rstrip()) # Removes the extra spaces on the right side\n",
    "str3 = '*************** Hello Python *************** All the Best ***************'\n",
    "print(str3.strip('*'))\n",
    "print(str3.lstrip('*'))\n",
    "print(str3.rstrip('*'))\n"
   ]
  },
  {
   "cell_type": "markdown",
   "metadata": {},
   "source": [
    "##### Lower and Upper"
   ]
  },
  {
   "cell_type": "code",
   "execution_count": 48,
   "metadata": {},
   "outputs": [
    {
     "name": "stdout",
     "output_type": "stream",
     "text": [
      "hello python\n",
      "HELLO PYTHON\n",
      "Hola Python\n",
      "Hello Python\n",
      "HelloPython\n"
     ]
    }
   ],
   "source": [
    "str1 = 'Hello Python'\n",
    "# Change case\n",
    "print(str1.lower())\n",
    "print(str1.upper())"
   ]
  },
  {
   "cell_type": "markdown",
   "metadata": {},
   "source": [
    "##### Replace"
   ]
  },
  {
   "cell_type": "code",
   "execution_count": 49,
   "metadata": {},
   "outputs": [
    {
     "name": "stdout",
     "output_type": "stream",
     "text": [
      "Hola Python\n",
      "Hello Python\n",
      "HelloPython\n"
     ]
    }
   ],
   "source": [
    "print(str1.replace('Hello', 'Hola'))\n",
    "print(str1.replace('hello', 'Hola')) # Replace function is case sensitive\n",
    "print(str1.replace(' ', '')) # Removing white spaces using replace function"
   ]
  },
  {
   "cell_type": "markdown",
   "metadata": {},
   "source": [
    "##### Count"
   ]
  },
  {
   "cell_type": "code",
   "execution_count": 54,
   "metadata": {},
   "outputs": [
    {
     "name": "stdout",
     "output_type": "stream",
     "text": [
      "4\n",
      "0\n",
      "0\n"
     ]
    }
   ],
   "source": [
    "str1 = 'one two three four three one two one two one two'\n",
    "print(str1.count('one'))\n",
    "print(str1.count('One')) # Case sensitive\n",
    "print(str1.count('five'))"
   ]
  },
  {
   "cell_type": "markdown",
   "metadata": {},
   "source": [
    "##### Starts with / Ends with\n"
   ]
  },
  {
   "cell_type": "code",
   "execution_count": 62,
   "metadata": {},
   "outputs": [
    {
     "name": "stdout",
     "output_type": "stream",
     "text": [
      "True\n",
      "False\n",
      "True\n",
      "False\n"
     ]
    }
   ],
   "source": [
    "str1 = 'one two three four three one two one two one two'\n",
    "print(str1.startswith('one'))\n",
    "print(str1.startswith('One')) # Case Insensitive\n",
    "print(str1.endswith('two'))\n",
    "print(str1.endswith('Two')) # Case Insensitive"
   ]
  },
  {
   "cell_type": "markdown",
   "metadata": {},
   "source": [
    "##### Split"
   ]
  },
  {
   "cell_type": "code",
   "execution_count": 63,
   "metadata": {},
   "outputs": [
    {
     "name": "stdout",
     "output_type": "stream",
     "text": [
      "['one', 'two', 'three', 'four', 'three', 'one', 'two', 'one', 'two', 'one', 'two']\n"
     ]
    }
   ],
   "source": [
    "str1 = 'one two three four three one two one two one two'\n",
    "list1 = str1.split()\n",
    "print(list1)"
   ]
  },
  {
   "cell_type": "markdown",
   "metadata": {},
   "source": [
    "##### Format"
   ]
  },
  {
   "cell_type": "code",
   "execution_count": 66,
   "metadata": {},
   "outputs": [
    {
     "name": "stdout",
     "output_type": "stream",
     "text": [
      "The three numbers are 10, 20 and 30\n",
      "The three numbers are 30, 20 and 10\n"
     ]
    }
   ],
   "source": [
    "num1 = 10\n",
    "num2 = 20\n",
    "num3 = 30\n",
    "\n",
    "str1 = 'The three numbers are {}, {} and {}'\n",
    "str2 = 'The three numbers are {2}, {1} and {0}'\n",
    "\n",
    "print(str1.format(num1, num2, num3))\n",
    "print(str2.format(num1, num2, num3))"
   ]
  },
  {
   "cell_type": "markdown",
   "metadata": {},
   "source": [
    "##### Justify"
   ]
  },
  {
   "cell_type": "code",
   "execution_count": 74,
   "metadata": {},
   "outputs": [
    {
     "name": "stdout",
     "output_type": "stream",
     "text": [
      "                                            Hello Python                                            \n",
      "******************************************* Hello Python *******************************************\n",
      " Hello Python                                                                                       \n",
      " Hello Python **************************************************************************************\n",
      "                                                                                       Hello Python \n",
      "************************************************************************************** Hello Python \n"
     ]
    }
   ],
   "source": [
    "str1 = ' Hello Python '\n",
    "print(str1.center(100))\n",
    "print(str1.center(100, '*'))\n",
    "print(str1.ljust(100))\n",
    "print(str1.ljust(100, '*'))\n",
    "print(str1.rjust(100))\n",
    "print(str1.rjust(100, '*'))"
   ]
  },
  {
   "cell_type": "markdown",
   "metadata": {},
   "source": [
    "##### Find & Index"
   ]
  },
  {
   "cell_type": "code",
   "execution_count": 100,
   "metadata": {},
   "outputs": [
    {
     "name": "stdout",
     "output_type": "stream",
     "text": [
      "4\n",
      "45\n",
      "4\n",
      "45\n"
     ]
    }
   ],
   "source": [
    "str1 = 'one two three four three one two one two one two'\n",
    "# Find\n",
    "# Returns -1 if not found.\n",
    "# Can be applied only to strings.\n",
    "print(str1.find('two'))\n",
    "print(str1.rfind('two'))\n",
    "# Index\n",
    "# Returns exception if not found.\n",
    "# Can be applied only to strings, lists and tuples.\n",
    "print(str1.index('two'))\n",
    "print(str1.rindex('two'))\n"
   ]
  },
  {
   "cell_type": "markdown",
   "metadata": {},
   "source": [
    "##### Miscellaneous (IsAlpha, IsAlNum, IsNumeric, IsDigit, IsDecimal, IsUpper, IsLower)"
   ]
  },
  {
   "cell_type": "code",
   "execution_count": 98,
   "metadata": {},
   "outputs": [
    {
     "name": "stdout",
     "output_type": "stream",
     "text": [
      "123456789\n",
      "IsAlpha: False\n",
      "IsNumeric: True\n",
      "IsAlphaNumeric: True\n",
      "IsDigit: True\n",
      "IsDecimal: True\n",
      "\n",
      "abcde\n",
      "IsAlpha: True\n",
      "IsNumeric: False\n",
      "IsAlphaNumeric: True\n",
      "IsDigit: False\n",
      "IsDecimal: False\n",
      "\n",
      "hello python\n",
      "IsUpper: False\n",
      "IsLower: True\n"
     ]
    }
   ],
   "source": [
    "str1 = '123456789'\n",
    "print(str1)\n",
    "print('IsAlpha:', str1.isalpha()) # Returns true if the input is all letters\n",
    "print('IsNumeric:', str1.isnumeric()) # Returns true if the input is all numbers\n",
    "print('IsAlphaNumeric:', str1.isalnum()) # Returns true if the input contains mix of letters and numbers\n",
    "print('IsDigit:', str1.isdigit()) # Returns true if the input is all numbers\n",
    "print('IsDecimal:', str1.isdecimal()) # Returns true if the input is all numbers or decimal\n",
    "str1 = 'abcde'\n",
    "print()\n",
    "print(str1)\n",
    "print('IsAlpha:', str1.isalpha())\n",
    "print('IsNumeric:', str1.isnumeric())\n",
    "print('IsAlphaNumeric:', str1.isalnum())\n",
    "print('IsDigit:', str1.isdigit())\n",
    "print('IsDecimal:', str1.isdecimal())\n",
    "\n",
    "str1 = 'hello python'\n",
    "print()\n",
    "print(str1)\n",
    "print('IsUpper:', str1.isupper())\n",
    "print('IsLower:', str1.islower())"
   ]
  },
  {
   "cell_type": "markdown",
   "metadata": {},
   "source": [
    "#### Using escape characters"
   ]
  },
  {
   "cell_type": "code",
   "execution_count": 102,
   "metadata": {},
   "outputs": [
    {
     "name": "stdout",
     "output_type": "stream",
     "text": [
      "My favorite tv series is \"Game of thrones\"\n",
      "My favorite tv series is 'Game of thrones'\n"
     ]
    }
   ],
   "source": [
    "str1 = 'My favorite tv series is \"Game of thrones\"'\n",
    "print(str1)\n",
    "str1 = 'My favorite tv series is \\'Game of thrones\\''\n",
    "print(str1)"
   ]
  },
  {
   "cell_type": "markdown",
   "metadata": {},
   "source": [
    "### List"
   ]
  },
  {
   "cell_type": "markdown",
   "metadata": {},
   "source": [
    "List is an ordered collection of items </br>\n",
    "List can have different data types in it"
   ]
  },
  {
   "cell_type": "code",
   "execution_count": 110,
   "metadata": {},
   "outputs": [
    {
     "name": "stdout",
     "output_type": "stream",
     "text": [
      "[]\n",
      "[1, 2, 3, 4, 5]\n",
      "[1.5, 2.5, 3.5, 4.5, 5.5]\n",
      "['one', 'two', 'three', 'four', 'five']\n",
      "[1, 2, [3, 4]]\n",
      "[1, 'two', 3.5, [4, 'five', 6.5]]\n"
     ]
    }
   ],
   "source": [
    "list1 = [] # Empty list\n",
    "print(list1)\n",
    "list2 = [1, 2, 3, 4, 5] # Integer list\n",
    "print(list2)\n",
    "list3 = [1.5, 2.5, 3.5, 4.5, 5.5] # Float list\n",
    "print(list3)\n",
    "list4 = ['one', 'two', 'three', 'four', 'five'] # String list\n",
    "print(list4)\n",
    "list5 = [1, 2 , [3, 4]] # Nested list\n",
    "print(list5)\n",
    "list6 = [1, 'two', 3.5, [4, 'five', 6.5]] # Mixed list\n",
    "print(list6)"
   ]
  },
  {
   "cell_type": "code",
   "execution_count": 111,
   "metadata": {},
   "outputs": [
    {
     "name": "stdout",
     "output_type": "stream",
     "text": [
      "4\n"
     ]
    }
   ],
   "source": [
    "list1 = [1, 2, 3, [4,5]]\n",
    "print(len(list1))"
   ]
  },
  {
   "cell_type": "markdown",
   "metadata": {},
   "source": [
    "#### List Indexing"
   ]
  },
  {
   "cell_type": "code",
   "execution_count": 117,
   "metadata": {},
   "outputs": [
    {
     "name": "stdout",
     "output_type": "stream",
     "text": [
      "1\n",
      "[4, 5]\n",
      "5\n",
      "[4, 5]\n",
      "4\n"
     ]
    }
   ],
   "source": [
    "list1 = [1, 2, 3, [4,5]]\n",
    "print(list1[0])\n",
    "print(list1[3])\n",
    "print(list1[3][1]) # Nested Indexing\n",
    "print(list1[-1]) # Reverse Indexing\n",
    "print(list1[-1][0])"
   ]
  },
  {
   "cell_type": "markdown",
   "metadata": {},
   "source": [
    "#### List Slicing"
   ]
  },
  {
   "cell_type": "code",
   "execution_count": 124,
   "metadata": {},
   "outputs": [
    {
     "name": "stdout",
     "output_type": "stream",
     "text": [
      "['one', 'two', 'three', 'four', 'five', 'six', 'seven', 'eight', 'nine', 'ten']\n",
      "['three', 'four', 'five']\n",
      "['one', 'two', 'three']\n",
      "['four', 'five', 'six', 'seven', 'eight', 'nine', 'ten']\n",
      "['eight', 'nine', 'ten']\n",
      "['one', 'two', 'three', 'four', 'five', 'six', 'seven', 'eight', 'nine', 'ten']\n"
     ]
    }
   ],
   "source": [
    "list1 = ['one', 'two', 'three', 'four', 'five', 'six', 'seven', 'eight', 'nine', 'ten']\n",
    "print(list1)\n",
    "print(list1[2:5]) # from 2nd index to 4th index\n",
    "print(list1[:3]) # from 0 index to 3rd index in list\n",
    "print(list1[3:]) # From 3rd index to end of list\n",
    "print(list1[-3:]) # Last 3 items\n",
    "print(list1[:]) # Return whole list"
   ]
  },
  {
   "cell_type": "markdown",
   "metadata": {},
   "source": [
    "#### Add / Change Items"
   ]
  },
  {
   "cell_type": "code",
   "execution_count": 131,
   "metadata": {},
   "outputs": [
    {
     "name": "stdout",
     "output_type": "stream",
     "text": [
      "[1, 2, 3, 4, 5, 6]\n",
      "[1, 2, 2.5, 3, 4, 5, 6]\n"
     ]
    }
   ],
   "source": [
    "list1 = [1, 2, 3, 4, 5]\n",
    "list1.append(6) # Appending new items to list\n",
    "print(list1)\n",
    "list1.insert(2, 2.5) # Insert new elements at a given position\n",
    "print(list1)"
   ]
  },
  {
   "cell_type": "code",
   "execution_count": 144,
   "metadata": {},
   "outputs": [
    {
     "name": "stdout",
     "output_type": "stream",
     "text": [
      "['one', 'two', 'three', 'four', 'five']\n",
      "['one', 'two', 'four', 'five']\n",
      "['one', 'two', 'three', 'four']\n",
      "['one', 'three', 'four', 'five']\n",
      "['one', 'three', 'four', 'five']\n",
      "['one', 2, 'three', 'four', 'five']\n",
      "[]\n"
     ]
    },
    {
     "ename": "NameError",
     "evalue": "name 'list1' is not defined",
     "output_type": "error",
     "traceback": [
      "\u001b[1;31m---------------------------------------------------------------------------\u001b[0m",
      "\u001b[1;31mNameError\u001b[0m                                 Traceback (most recent call last)",
      "\u001b[1;32md:\\Projects\\Python\\PythonBasics.ipynb Cell 106'\u001b[0m in \u001b[0;36m<cell line: 20>\u001b[1;34m()\u001b[0m\n\u001b[0;32m     <a href='vscode-notebook-cell:/d%3A/Projects/Python/PythonBasics.ipynb#ch0000140?line=17'>18</a>\u001b[0m \u001b[39mprint\u001b[39m(list1)\n\u001b[0;32m     <a href='vscode-notebook-cell:/d%3A/Projects/Python/PythonBasics.ipynb#ch0000140?line=18'>19</a>\u001b[0m \u001b[39mdel\u001b[39;00m list1 \u001b[39m# Deletes the list\u001b[39;00m\n\u001b[1;32m---> <a href='vscode-notebook-cell:/d%3A/Projects/Python/PythonBasics.ipynb#ch0000140?line=19'>20</a>\u001b[0m \u001b[39mprint\u001b[39m(list1)\n",
      "\u001b[1;31mNameError\u001b[0m: name 'list1' is not defined"
     ]
    }
   ],
   "source": [
    "list1 = ['one', 'two', 'three', 'four', 'five']\n",
    "print(list1)\n",
    "list1.remove('three') # Removes the specified element\n",
    "print(list1)\n",
    "list1 = ['one', 'two', 'three', 'four', 'five']\n",
    "list1.pop() # Removes the last item\n",
    "print(list1)\n",
    "list1 = ['one', 'two', 'three', 'four', 'five']\n",
    "list1.pop(1) # Removes item at index\n",
    "print(list1)\n",
    "list1 = ['one', 'two', 'three', 'four', 'five']\n",
    "del list1[1] # Removes item at index\n",
    "print(list1)\n",
    "list1 = ['one', 'two', 'three', 'four', 'five']\n",
    "list1[1] = 2 # Change value in list\n",
    "print(list1)\n",
    "list1.clear() # Clears the list\n",
    "print(list1)\n",
    "del list1 # Deletes the list\n",
    "print(list1)"
   ]
  },
  {
   "cell_type": "markdown",
   "metadata": {},
   "source": [
    "#### Copy List"
   ]
  },
  {
   "cell_type": "code",
   "execution_count": 147,
   "metadata": {},
   "outputs": [
    {
     "name": "stdout",
     "output_type": "stream",
     "text": [
      "2628879975744 2628879975744\n",
      "2628879975744 2628879771264\n",
      "[1, 'two', 3, 4, 5]\n",
      "[1, 'two', 3, 4, 5]\n",
      "[1, 2, 3, 4, 5]\n"
     ]
    }
   ],
   "source": [
    "list1 = [1, 2, 3 , 4, 5]\n",
    "list2 = list1\n",
    "print(id(list1), id(list2)) # Points to the same reference\n",
    "list3 = list1.copy()\n",
    "print(id(list1), id(list3)) # Points to different reference\n",
    "list1[1] = 'two'\n",
    "print(list1)\n",
    "print(list2)\n",
    "print(list3)"
   ]
  },
  {
   "cell_type": "markdown",
   "metadata": {},
   "source": [
    "#### Join Lists"
   ]
  },
  {
   "cell_type": "code",
   "execution_count": 153,
   "metadata": {},
   "outputs": [
    {
     "name": "stdout",
     "output_type": "stream",
     "text": [
      "[1, 2, 3, 4, 5]\n",
      "[6, 7, 8, 9, 10]\n",
      "[1, 2, 3, 4, 5, 6, 7, 8, 9, 10]\n",
      "[1, 2, 3, 4, 5, 6, 7, 8, 9, 10]\n"
     ]
    }
   ],
   "source": [
    "list1 = [1, 2, 3 , 4, 5]\n",
    "list2 = [6, 7, 8 , 9, 10]\n",
    "list3 = list1 + list2 # Join lists.\n",
    "print(list1)\n",
    "print(list2)\n",
    "print(list3)\n",
    "\n",
    "# This is different from append. \n",
    "# Append adds the list as a new element in the current list.\n",
    "list1.extend(list2) \n",
    "print(list1)\n"
   ]
  },
  {
   "cell_type": "markdown",
   "metadata": {},
   "source": [
    "#### List Membership"
   ]
  },
  {
   "cell_type": "code",
   "execution_count": 155,
   "metadata": {},
   "outputs": [
    {
     "name": "stdout",
     "output_type": "stream",
     "text": [
      "True\n",
      "False\n"
     ]
    }
   ],
   "source": [
    "list1 = [1, 2, 3 , 4, 5]\n",
    "print(4 in list1)\n",
    "print(6 in list1)"
   ]
  },
  {
   "cell_type": "markdown",
   "metadata": {},
   "source": [
    "#### Reverse and Sort lists"
   ]
  },
  {
   "cell_type": "code",
   "execution_count": 175,
   "metadata": {},
   "outputs": [
    {
     "name": "stdout",
     "output_type": "stream",
     "text": [
      "[1, 2, 3, 4, 5]\n",
      "[5, 4, 3, 2, 1]\n",
      "[1, 2, 3, 4, 5]\n"
     ]
    }
   ],
   "source": [
    "list1 = [1, 2, 3 , 4, 5]\n",
    "print(list1)\n",
    "list1.reverse() # Reverses the list\n",
    "print(list1)\n",
    "list1 = list1[::-1] # Reverses the list\n",
    "print(list1)\n"
   ]
  },
  {
   "cell_type": "code",
   "execution_count": 176,
   "metadata": {},
   "outputs": [
    {
     "name": "stdout",
     "output_type": "stream",
     "text": [
      "[1, 2, 3, 4, 5]\n",
      "[1, 2, 3, 4, 5]\n",
      "[5, 4, 3, 2, 1]\n",
      "[1, 2, 3, 4, 5]\n"
     ]
    }
   ],
   "source": [
    "list2 = [4, 2, 1, 5, 3]\n",
    "list2.sort()\n",
    "print(list1)\n",
    "list2.sort(reverse=True)\n",
    "print(list1)\n",
    "list3 = sorted(list2) # Returns a new copy of the list. Does not change the original list\n",
    "print(list2) # Original list\n",
    "print(list3) # Sorted list"
   ]
  },
  {
   "cell_type": "markdown",
   "metadata": {},
   "source": [
    "#### Loop through a list"
   ]
  },
  {
   "cell_type": "code",
   "execution_count": 173,
   "metadata": {},
   "outputs": [
    {
     "name": "stdout",
     "output_type": "stream",
     "text": [
      "1\n",
      "2\n",
      "3\n",
      "4\n",
      "5\n"
     ]
    }
   ],
   "source": [
    "list1 = [1, 2, 3 , 4, 5]\n",
    "for i in list1:\n",
    "    print(i)"
   ]
  },
  {
   "cell_type": "code",
   "execution_count": 174,
   "metadata": {},
   "outputs": [
    {
     "name": "stdout",
     "output_type": "stream",
     "text": [
      "(0, 1)\n",
      "(1, 2)\n",
      "(2, 3)\n",
      "(3, 4)\n",
      "(4, 5)\n"
     ]
    }
   ],
   "source": [
    "for i in enumerate(list1): # Returns list with index\n",
    "    print(i)"
   ]
  },
  {
   "cell_type": "markdown",
   "metadata": {},
   "source": [
    "#### Count"
   ]
  },
  {
   "cell_type": "code",
   "execution_count": 180,
   "metadata": {},
   "outputs": [
    {
     "name": "stdout",
     "output_type": "stream",
     "text": [
      "2\n",
      "1\n",
      "0\n"
     ]
    }
   ],
   "source": [
    "list1 = ['one', 'three', 'seven', 'two', 'one', 'three', 'four', 'three']\n",
    "print(list1.count('one'))\n",
    "print(list1.count('four'))\n",
    "print(list1.count('six'))\n"
   ]
  },
  {
   "cell_type": "markdown",
   "metadata": {},
   "source": [
    "#### All / Any"
   ]
  },
  {
   "cell_type": "code",
   "execution_count": 186,
   "metadata": {},
   "outputs": [
    {
     "name": "stdout",
     "output_type": "stream",
     "text": [
      "['one', 'two', 'three', 'four', 'five']\n",
      "True\n",
      "True\n",
      "['one', 'two', 'three', 'four', 'five', '']\n",
      "False\n",
      "True\n"
     ]
    }
   ],
   "source": [
    "list1 = ['one', 'two', 'three', 'four', 'five']\n",
    "print(list1)\n",
    "print(all(list1))\n",
    "print(any(list1))\n",
    "list1.append('')\n",
    "print(list1)\n",
    "print(all(list1))\n",
    "print(any(list1))"
   ]
  },
  {
   "cell_type": "markdown",
   "metadata": {},
   "source": [
    "#### List Comprehension"
   ]
  },
  {
   "cell_type": "code",
   "execution_count": null,
   "metadata": {},
   "outputs": [],
   "source": []
  },
  {
   "cell_type": "markdown",
   "metadata": {},
   "source": [
    "List Comprehensions provide an elegant way to create new lists. </br>\n",
    "It consists of brackets containing an expression followed by a for clause, then zero or more foror if clauses."
   ]
  },
  {
   "cell_type": "code",
   "execution_count": 227,
   "metadata": {},
   "outputs": [
    {
     "name": "stdout",
     "output_type": "stream",
     "text": [
      "[1, 2, 3, 4, 5, 6, 7, 8, 9, 10]\n"
     ]
    }
   ],
   "source": [
    "list1 = list(range(1, 11))\n",
    "print(list1)\n"
   ]
  },
  {
   "cell_type": "code",
   "execution_count": 228,
   "metadata": {},
   "outputs": [
    {
     "name": "stdout",
     "output_type": "stream",
     "text": [
      "[1, 4, 9, 16, 25, 36, 49, 64, 81, 100]\n"
     ]
    }
   ],
   "source": [
    " # List with squares of each number\n",
    "list2 = [i * i for i in list1]\n",
    "print(list2)"
   ]
  },
  {
   "cell_type": "code",
   "execution_count": 229,
   "metadata": {},
   "outputs": [
    {
     "name": "stdout",
     "output_type": "stream",
     "text": [
      "[10, 20, 30, 40, 50, 60, 70, 80, 90, 100]\n"
     ]
    }
   ],
   "source": [
    " # Multiple each item by 10\n",
    "list2 = [i * 10 for i in list1]\n",
    "print(list2)"
   ]
  },
  {
   "cell_type": "code",
   "execution_count": 230,
   "metadata": {},
   "outputs": [
    {
     "name": "stdout",
     "output_type": "stream",
     "text": [
      "[2, 4, 6, 8, 10]\n"
     ]
    }
   ],
   "source": [
    "# List with even numbers\n",
    "list2 = [i for i in list1 if i % 2 == 0] \n",
    "print(list2)"
   ]
  },
  {
   "cell_type": "code",
   "execution_count": 234,
   "metadata": {},
   "outputs": [
    {
     "name": "stdout",
     "output_type": "stream",
     "text": [
      "[9]\n"
     ]
    }
   ],
   "source": [
    "# Numbers divisible by 3 and 9\n",
    "list2 = [i for i in list1 if i % 3 == 0 if i % 9 == 0] \n",
    "print(list2)"
   ]
  },
  {
   "cell_type": "code",
   "execution_count": 232,
   "metadata": {},
   "outputs": [
    {
     "name": "stdout",
     "output_type": "stream",
     "text": [
      "1 is an odd number\n",
      "2 is an even number\n",
      "3 is an odd number\n",
      "4 is an even number\n",
      "5 is an odd number\n",
      "6 is an even number\n",
      "7 is an odd number\n",
      "8 is an even number\n",
      "9 is an odd number\n",
      "10 is an even number\n"
     ]
    }
   ],
   "source": [
    "# Odd or Even\n",
    "list2 = [print('{} is an even number'.format(i)) \n",
    "         if i % 2 == 0 \n",
    "         else print('{} is an odd number'.format(i)) \n",
    "         for i in list1]"
   ]
  },
  {
   "cell_type": "code",
   "execution_count": 241,
   "metadata": {},
   "outputs": [
    {
     "name": "stdout",
     "output_type": "stream",
     "text": [
      "[1, 2, 3, 4, 5, 6, 7, 8, 9]\n"
     ]
    }
   ],
   "source": [
    "# Extract numbers from a string\n",
    "str1 = 'One 1 two 2 three 3 four 4 five 5 six 6789'\n",
    "numlist1 = [int(i) for i in str1 if i.isdigit()]\n",
    "print(numlist1)"
   ]
  },
  {
   "cell_type": "code",
   "execution_count": 244,
   "metadata": {},
   "outputs": [
    {
     "name": "stdout",
     "output_type": "stream",
     "text": [
      "['O', 'n', 'e', 't', 'w', 'o', 't', 'h', 'r', 'e', 'e', 'f', 'o', 'u', 'r', 'f', 'i', 'v', 'e', 's', 'i', 'x']\n"
     ]
    }
   ],
   "source": [
    "# Extract letters from a string\n",
    "str1 = 'One 1 two 2 three 3 four 4 five 5 six 6789'\n",
    "numlist1 = [i for i in str1 if i.isalpha()]\n",
    "print(numlist1)"
   ]
  },
  {
   "cell_type": "markdown",
   "metadata": {},
   "source": [
    "### Tuples"
   ]
  },
  {
   "cell_type": "markdown",
   "metadata": {},
   "source": [
    "Tuple is similar to List except that the objects in tuple are immutable which means we cannot change the elements of a tuple once assigned. </br>\n",
    "When we do not want to change the data over time, tuple is a preferred data type. </br>\n",
    "Iterating over the elements of a tuple is faster compared to iterating over a list."
   ]
  },
  {
   "cell_type": "markdown",
   "metadata": {},
   "source": [
    "#### Tuple Creation"
   ]
  },
  {
   "cell_type": "code",
   "execution_count": 246,
   "metadata": {},
   "outputs": [
    {
     "name": "stdout",
     "output_type": "stream",
     "text": [
      "()\n"
     ]
    }
   ],
   "source": [
    "tup1 = ()\n",
    "print(tup1)"
   ]
  },
  {
   "cell_type": "code",
   "execution_count": 253,
   "metadata": {},
   "outputs": [
    {
     "name": "stdout",
     "output_type": "stream",
     "text": [
      "(1, 2, 3, 4, 5)\n",
      "(1.5, 2.5, 3.5, 4.5, 5.5)\n",
      "('one', 'two', 'three', 'four', 'five')\n",
      "(1, 2, 3, 4, 5, (1, 2))\n",
      "(1, 2, 3, 4.5, 'five', (1, 2), [1, 2], {1, 2})\n"
     ]
    }
   ],
   "source": [
    "# Tuple of integers\n",
    "tup1 = (1, 2, 3, 4 , 5)\n",
    "print(tup1)\n",
    "# Tuple of floats\n",
    "tup1 = (1.5, 2.5, 3.5, 4.5 , 5.5)\n",
    "print(tup1)\n",
    "# Tuple of strings\n",
    "tup1 = ('one', 'two', 'three', 'four', 'five')\n",
    "print(tup1)\n",
    "# Nested Tuple\n",
    "tup1 = (1, 2, 3, 4 , 5, (1,2)) \n",
    "print(tup1)\n",
    "# Mixed Tuple\n",
    "tup1 = (1, 2, 3, 4.5 , 'five', (1,2), [1,2], {1,2}) \n",
    "print(tup1)"
   ]
  },
  {
   "cell_type": "code",
   "execution_count": 257,
   "metadata": {},
   "outputs": [
    {
     "name": "stdout",
     "output_type": "stream",
     "text": [
      "8\n"
     ]
    }
   ],
   "source": [
    "# Length of tuple\n",
    "tup1 = (1, 2, 3, 4.5 , 'five', (1,2), [1,2], {1,2}) \n",
    "print(len(tup1))"
   ]
  },
  {
   "cell_type": "markdown",
   "metadata": {},
   "source": [
    "#### Tuple Indexing"
   ]
  },
  {
   "cell_type": "code",
   "execution_count": 259,
   "metadata": {},
   "outputs": [
    {
     "name": "stdout",
     "output_type": "stream",
     "text": [
      "[1, 2]\n",
      "2\n",
      "{1, 2}\n"
     ]
    }
   ],
   "source": [
    "tup1 = (1, 2, 3, 4.5, 'five', (1,2), [1,2], {1,2}) \n",
    "print(tup1[6])\n",
    "print(tup1[6][1])\n",
    "print(tup1[-1])"
   ]
  },
  {
   "cell_type": "markdown",
   "metadata": {},
   "source": [
    "#### Tuple Slicing"
   ]
  },
  {
   "cell_type": "code",
   "execution_count": 274,
   "metadata": {},
   "outputs": [
    {
     "name": "stdout",
     "output_type": "stream",
     "text": [
      "(2, 3, 4)\n",
      "(1, 2, 3, 4)\n",
      "(3, 4, 5)\n",
      "(4, 5)\n",
      "(1, 2, 3, 4, 5)\n"
     ]
    }
   ],
   "source": [
    "tup1 = (1, 2, 3, 4, 5)\n",
    "print(tup1[1:4])\n",
    "print(tup1[:4])\n",
    "print(tup1[2:])\n",
    "print(tup1[-2:])\n",
    "print(tup1[:])"
   ]
  },
  {
   "cell_type": "code",
   "execution_count": null,
   "metadata": {},
   "outputs": [],
   "source": []
  },
  {
   "cell_type": "markdown",
   "metadata": {},
   "source": [
    "#### Remove and Change Items"
   ]
  },
  {
   "cell_type": "code",
   "execution_count": 269,
   "metadata": {},
   "outputs": [
    {
     "name": "stdout",
     "output_type": "stream",
     "text": [
      "(1, 2, 3, 4, 5, 6)\n"
     ]
    },
    {
     "ename": "TypeError",
     "evalue": "'tuple' object doesn't support item deletion",
     "output_type": "error",
     "traceback": [
      "\u001b[1;31m---------------------------------------------------------------------------\u001b[0m",
      "\u001b[1;31mTypeError\u001b[0m                                 Traceback (most recent call last)",
      "\u001b[1;32md:\\Projects\\Python\\PythonBasics.ipynb Cell 145'\u001b[0m in \u001b[0;36m<cell line: 2>\u001b[1;34m()\u001b[0m\n\u001b[0;32m      <a href='vscode-notebook-cell:/d%3A/Projects/Python/PythonBasics.ipynb#ch0000197?line=0'>1</a>\u001b[0m \u001b[39mprint\u001b[39m(tup1)\n\u001b[1;32m----> <a href='vscode-notebook-cell:/d%3A/Projects/Python/PythonBasics.ipynb#ch0000197?line=1'>2</a>\u001b[0m \u001b[39mdel\u001b[39;00m tup1[\u001b[39m1\u001b[39m]\n",
      "\u001b[1;31mTypeError\u001b[0m: 'tuple' object doesn't support item deletion"
     ]
    }
   ],
   "source": [
    "print(tup1)\n",
    "del tup1[1] # Tuples are immutable so the elements cannot be deleted"
   ]
  },
  {
   "cell_type": "code",
   "execution_count": 270,
   "metadata": {},
   "outputs": [
    {
     "ename": "TypeError",
     "evalue": "'tuple' object does not support item assignment",
     "output_type": "error",
     "traceback": [
      "\u001b[1;31m---------------------------------------------------------------------------\u001b[0m",
      "\u001b[1;31mTypeError\u001b[0m                                 Traceback (most recent call last)",
      "\u001b[1;32md:\\Projects\\Python\\PythonBasics.ipynb Cell 146'\u001b[0m in \u001b[0;36m<cell line: 1>\u001b[1;34m()\u001b[0m\n\u001b[1;32m----> <a href='vscode-notebook-cell:/d%3A/Projects/Python/PythonBasics.ipynb#ch0000198?line=0'>1</a>\u001b[0m tup1[\u001b[39m1\u001b[39m] \u001b[39m=\u001b[39m \u001b[39m10\u001b[39m\n",
      "\u001b[1;31mTypeError\u001b[0m: 'tuple' object does not support item assignment"
     ]
    }
   ],
   "source": [
    "tup1[1] = 10 # Tuples are immutable so the elements cannot be modified"
   ]
  },
  {
   "cell_type": "code",
   "execution_count": 271,
   "metadata": {},
   "outputs": [
    {
     "ename": "NameError",
     "evalue": "name 'tup1' is not defined",
     "output_type": "error",
     "traceback": [
      "\u001b[1;31m---------------------------------------------------------------------------\u001b[0m",
      "\u001b[1;31mNameError\u001b[0m                                 Traceback (most recent call last)",
      "\u001b[1;32md:\\Projects\\Python\\PythonBasics.ipynb Cell 147'\u001b[0m in \u001b[0;36m<cell line: 2>\u001b[1;34m()\u001b[0m\n\u001b[0;32m      <a href='vscode-notebook-cell:/d%3A/Projects/Python/PythonBasics.ipynb#ch0000199?line=0'>1</a>\u001b[0m \u001b[39mdel\u001b[39;00m tup1 \u001b[39m# Delete the tuple\u001b[39;00m\n\u001b[1;32m----> <a href='vscode-notebook-cell:/d%3A/Projects/Python/PythonBasics.ipynb#ch0000199?line=1'>2</a>\u001b[0m \u001b[39mprint\u001b[39m(tup1)\n",
      "\u001b[1;31mNameError\u001b[0m: name 'tup1' is not defined"
     ]
    }
   ],
   "source": [
    "del tup1 # Delete the tuple\n",
    "print(tup1)"
   ]
  },
  {
   "cell_type": "markdown",
   "metadata": {},
   "source": [
    "#### Loop through a tuple"
   ]
  },
  {
   "cell_type": "code",
   "execution_count": 277,
   "metadata": {},
   "outputs": [
    {
     "name": "stdout",
     "output_type": "stream",
     "text": [
      "1\n",
      "2\n",
      "3\n",
      "4\n",
      "5\n",
      "2\n",
      "3\n",
      "2\n",
      "4\n"
     ]
    }
   ],
   "source": [
    "tup1 = (1, 2, 3, 4, 5, 2, 3, 2, 4,)\n",
    "for i in tup1:\n",
    "    print(i)"
   ]
  },
  {
   "cell_type": "code",
   "execution_count": 278,
   "metadata": {},
   "outputs": [
    {
     "name": "stdout",
     "output_type": "stream",
     "text": [
      "(0, 1)\n",
      "(1, 2)\n",
      "(2, 3)\n",
      "(3, 4)\n",
      "(4, 5)\n",
      "(5, 2)\n",
      "(6, 3)\n",
      "(7, 2)\n",
      "(8, 4)\n"
     ]
    }
   ],
   "source": [
    "for i in enumerate(tup1):\n",
    "    print(i)"
   ]
  },
  {
   "cell_type": "code",
   "execution_count": 283,
   "metadata": {},
   "outputs": [
    {
     "name": "stdout",
     "output_type": "stream",
     "text": [
      "2\n",
      "3\n"
     ]
    }
   ],
   "source": [
    "print(tup1.count(4))\n",
    "print(tup1.count(2))"
   ]
  },
  {
   "cell_type": "markdown",
   "metadata": {},
   "source": [
    "#### Tuple Membership"
   ]
  },
  {
   "cell_type": "code",
   "execution_count": 285,
   "metadata": {},
   "outputs": [
    {
     "name": "stdout",
     "output_type": "stream",
     "text": [
      "True\n",
      "False\n"
     ]
    }
   ],
   "source": [
    "tup1 = (1, 2, 3, 4, 5)\n",
    "print(2 in tup1)\n",
    "print(6 in tup1)"
   ]
  },
  {
   "cell_type": "markdown",
   "metadata": {},
   "source": [
    "#### Index Position"
   ]
  },
  {
   "cell_type": "code",
   "execution_count": 296,
   "metadata": {},
   "outputs": [
    {
     "data": {
      "text/plain": [
       "1"
      ]
     },
     "execution_count": 296,
     "metadata": {},
     "output_type": "execute_result"
    }
   ],
   "source": [
    "tup1 = ('one', 'two', 'three', 'four', 'five')\n",
    "tup1.index('two')"
   ]
  },
  {
   "cell_type": "code",
   "execution_count": 297,
   "metadata": {},
   "outputs": [
    {
     "ename": "ValueError",
     "evalue": "tuple.index(x): x not in tuple",
     "output_type": "error",
     "traceback": [
      "\u001b[1;31m---------------------------------------------------------------------------\u001b[0m",
      "\u001b[1;31mValueError\u001b[0m                                Traceback (most recent call last)",
      "\u001b[1;32md:\\Projects\\Python\\PythonBasics.ipynb Cell 157'\u001b[0m in \u001b[0;36m<cell line: 1>\u001b[1;34m()\u001b[0m\n\u001b[1;32m----> <a href='vscode-notebook-cell:/d%3A/Projects/Python/PythonBasics.ipynb#ch0000212?line=0'>1</a>\u001b[0m tup1\u001b[39m.\u001b[39;49mindex(\u001b[39m'\u001b[39;49m\u001b[39msix\u001b[39;49m\u001b[39m'\u001b[39;49m)\n",
      "\u001b[1;31mValueError\u001b[0m: tuple.index(x): x not in tuple"
     ]
    }
   ],
   "source": [
    "tup1.index('six')"
   ]
  },
  {
   "cell_type": "markdown",
   "metadata": {},
   "source": [
    "#### Sorting"
   ]
  },
  {
   "cell_type": "code",
   "execution_count": 299,
   "metadata": {},
   "outputs": [
    {
     "name": "stdout",
     "output_type": "stream",
     "text": [
      "['apple', 'ball', 'cat', 'dog', 'elephant']\n",
      "['elephant', 'dog', 'cat', 'ball', 'apple']\n"
     ]
    }
   ],
   "source": [
    "tup1 =  ('ball', 'apple', 'dog', 'elephant', 'cat')\n",
    "print(sorted(tup1))\n",
    "print(sorted(tup1, reverse=True))"
   ]
  },
  {
   "cell_type": "markdown",
   "metadata": {},
   "source": [
    "### Sets"
   ]
  },
  {
   "cell_type": "markdown",
   "metadata": {},
   "source": [
    "Unordered & Unindexed collection of items. </br>\n",
    "Set elements are unique. Duplicate elements are not allowed. </br>\n",
    "Set elements are immutable (cannot be changed). </br>\n",
    "Set itself is mutable. We can add or remove items from it."
   ]
  },
  {
   "cell_type": "markdown",
   "metadata": {},
   "source": [
    "#### Set Creation"
   ]
  },
  {
   "cell_type": "code",
   "execution_count": 310,
   "metadata": {},
   "outputs": [
    {
     "name": "stdout",
     "output_type": "stream",
     "text": [
      "{}\n",
      "set()\n"
     ]
    }
   ],
   "source": [
    "# Empty set\n",
    "set1 = {}\n",
    "print(set1)\n",
    "# Empty set\n",
    "set1 = set()\n",
    "print(set1)"
   ]
  },
  {
   "cell_type": "code",
   "execution_count": 303,
   "metadata": {},
   "outputs": [
    {
     "name": "stdout",
     "output_type": "stream",
     "text": [
      "{1, 2, 3, 4, 5}\n",
      "5\n"
     ]
    }
   ],
   "source": [
    "set1 = {1, 2, 3, 4, 5, 5, 1}\n",
    "print(set1)\n",
    "print(len(set1))"
   ]
  },
  {
   "cell_type": "code",
   "execution_count": null,
   "metadata": {},
   "outputs": [
    {
     "name": "stdout",
     "output_type": "stream",
     "text": [
      "{1, 2, 3, 4, 5, (1, 2)}\n"
     ]
    }
   ],
   "source": [
    "set1 = {1, 2, 3, 4, 5, (1, 2)}\n",
    "print(set1)"
   ]
  },
  {
   "cell_type": "code",
   "execution_count": 307,
   "metadata": {},
   "outputs": [
    {
     "ename": "TypeError",
     "evalue": "unhashable type: 'set'",
     "output_type": "error",
     "traceback": [
      "\u001b[1;31m---------------------------------------------------------------------------\u001b[0m",
      "\u001b[1;31mTypeError\u001b[0m                                 Traceback (most recent call last)",
      "\u001b[1;32md:\\Projects\\Python\\PythonBasics.ipynb Cell 165'\u001b[0m in \u001b[0;36m<cell line: 1>\u001b[1;34m()\u001b[0m\n\u001b[1;32m----> <a href='vscode-notebook-cell:/d%3A/Projects/Python/PythonBasics.ipynb#ch0000226?line=0'>1</a>\u001b[0m set1 \u001b[39m=\u001b[39m {\u001b[39m1\u001b[39m, \u001b[39m2\u001b[39m, \u001b[39m3\u001b[39m, \u001b[39m4\u001b[39m, \u001b[39m5\u001b[39m, {\u001b[39m1\u001b[39m, \u001b[39m2\u001b[39m}} \u001b[39m# Cannot add set inside set\u001b[39;00m\n\u001b[0;32m      <a href='vscode-notebook-cell:/d%3A/Projects/Python/PythonBasics.ipynb#ch0000226?line=1'>2</a>\u001b[0m \u001b[39mprint\u001b[39m(set1)\n",
      "\u001b[1;31mTypeError\u001b[0m: unhashable type: 'set'"
     ]
    }
   ],
   "source": [
    "set1 = {1, 2, 3, 4, 5, {1, 2}}  # Set does not allow mutable types like list or set inside it\n",
    "print(set1)"
   ]
  },
  {
   "cell_type": "code",
   "execution_count": 308,
   "metadata": {},
   "outputs": [
    {
     "ename": "TypeError",
     "evalue": "unhashable type: 'list'",
     "output_type": "error",
     "traceback": [
      "\u001b[1;31m---------------------------------------------------------------------------\u001b[0m",
      "\u001b[1;31mTypeError\u001b[0m                                 Traceback (most recent call last)",
      "\u001b[1;32md:\\Projects\\Python\\PythonBasics.ipynb Cell 166'\u001b[0m in \u001b[0;36m<cell line: 1>\u001b[1;34m()\u001b[0m\n\u001b[1;32m----> <a href='vscode-notebook-cell:/d%3A/Projects/Python/PythonBasics.ipynb#ch0000227?line=0'>1</a>\u001b[0m set1 \u001b[39m=\u001b[39m {\u001b[39m1\u001b[39m, \u001b[39m2\u001b[39m, \u001b[39m3\u001b[39m, \u001b[39m4\u001b[39m, \u001b[39m5\u001b[39m, [\u001b[39m1\u001b[39m, \u001b[39m2\u001b[39m]} \u001b[39m# Cannot add set inside set\u001b[39;00m\n\u001b[0;32m      <a href='vscode-notebook-cell:/d%3A/Projects/Python/PythonBasics.ipynb#ch0000227?line=1'>2</a>\u001b[0m \u001b[39mprint\u001b[39m(set1)\n",
      "\u001b[1;31mTypeError\u001b[0m: unhashable type: 'list'"
     ]
    }
   ],
   "source": [
    "set1 = {1, 2, 3, 4, 5, [1, 2]} # Set does not allow mutable types like list or set inside it\n",
    "print(set1)"
   ]
  },
  {
   "cell_type": "code",
   "execution_count": 312,
   "metadata": {},
   "outputs": [
    {
     "name": "stdout",
     "output_type": "stream",
     "text": [
      "{1, 2, 3, 4, 5}\n"
     ]
    }
   ],
   "source": [
    "set1 = set((1, 2, 3, 4, 5))\n",
    "print(set1)"
   ]
  },
  {
   "cell_type": "markdown",
   "metadata": {},
   "source": [
    "#### Loop through a set"
   ]
  },
  {
   "cell_type": "code",
   "execution_count": 313,
   "metadata": {},
   "outputs": [
    {
     "name": "stdout",
     "output_type": "stream",
     "text": [
      "1\n",
      "2\n",
      "3\n",
      "4\n",
      "5\n"
     ]
    }
   ],
   "source": [
    "for i in set1:\n",
    "    print(i)"
   ]
  },
  {
   "cell_type": "code",
   "execution_count": 314,
   "metadata": {},
   "outputs": [
    {
     "name": "stdout",
     "output_type": "stream",
     "text": [
      "(0, 1)\n",
      "(1, 2)\n",
      "(2, 3)\n",
      "(3, 4)\n",
      "(4, 5)\n"
     ]
    }
   ],
   "source": [
    "for i in enumerate(set1):\n",
    "    print(i)"
   ]
  },
  {
   "cell_type": "markdown",
   "metadata": {},
   "source": [
    "#### Set Membership"
   ]
  },
  {
   "cell_type": "code",
   "execution_count": 316,
   "metadata": {},
   "outputs": [
    {
     "name": "stdout",
     "output_type": "stream",
     "text": [
      "True\n",
      "False\n"
     ]
    }
   ],
   "source": [
    "print(1 in set1)\n",
    "print(6 in set1)"
   ]
  },
  {
   "cell_type": "markdown",
   "metadata": {},
   "source": [
    "#### Add / Remove Items"
   ]
  },
  {
   "cell_type": "code",
   "execution_count": 334,
   "metadata": {},
   "outputs": [
    {
     "name": "stdout",
     "output_type": "stream",
     "text": [
      "{1, 2, 3, 4, 5}\n"
     ]
    }
   ],
   "source": [
    "set1 = {1, 2, 3, 4, 5}\n",
    "print(set1)\n"
   ]
  },
  {
   "cell_type": "code",
   "execution_count": 335,
   "metadata": {},
   "outputs": [
    {
     "name": "stdout",
     "output_type": "stream",
     "text": [
      "{1, 2, 3, 4, 5, 6}\n"
     ]
    }
   ],
   "source": [
    "# Add single item\n",
    "set1.add(6)\n",
    "print(set1)"
   ]
  },
  {
   "cell_type": "code",
   "execution_count": 342,
   "metadata": {},
   "outputs": [
    {
     "name": "stdout",
     "output_type": "stream",
     "text": [
      "{1, 2, 3, 4, 5, 6, 7, 8, 9}\n"
     ]
    }
   ],
   "source": [
    "# Add multiple item\n",
    "set1.update([7, 8, 9])\n",
    "print(set1)"
   ]
  },
  {
   "cell_type": "code",
   "execution_count": 351,
   "metadata": {},
   "outputs": [
    {
     "name": "stdout",
     "output_type": "stream",
     "text": [
      "{1, 2, 3, 4, 5, 6, 7, 8}\n",
      "{1, 2, 3, 4, 5, 6, 7}\n",
      "set()\n"
     ]
    }
   ],
   "source": [
    "set1 = {1, 2, 3, 4, 5, 6, 7, 8, 9}\n",
    "# Remove items using remove method\n",
    "set1.remove(9)\n",
    "print(set1)\n",
    "# Remove items using discard method\n",
    "set1.discard(8)\n",
    "print(set1)\n",
    "# Remove all items in a set\n",
    "set1.clear()\n",
    "print(set1)\n"
   ]
  },
  {
   "cell_type": "code",
   "execution_count": 352,
   "metadata": {},
   "outputs": [
    {
     "ename": "NameError",
     "evalue": "name 'set1' is not defined",
     "output_type": "error",
     "traceback": [
      "\u001b[1;31m---------------------------------------------------------------------------\u001b[0m",
      "\u001b[1;31mNameError\u001b[0m                                 Traceback (most recent call last)",
      "\u001b[1;32md:\\Projects\\Python\\PythonBasics.ipynb Cell 179'\u001b[0m in \u001b[0;36m<cell line: 3>\u001b[1;34m()\u001b[0m\n\u001b[0;32m      <a href='vscode-notebook-cell:/d%3A/Projects/Python/PythonBasics.ipynb#ch0000243?line=0'>1</a>\u001b[0m \u001b[39m# Delete a set\u001b[39;00m\n\u001b[0;32m      <a href='vscode-notebook-cell:/d%3A/Projects/Python/PythonBasics.ipynb#ch0000243?line=1'>2</a>\u001b[0m \u001b[39mdel\u001b[39;00m set1\n\u001b[1;32m----> <a href='vscode-notebook-cell:/d%3A/Projects/Python/PythonBasics.ipynb#ch0000243?line=2'>3</a>\u001b[0m \u001b[39mprint\u001b[39m(set1)\n",
      "\u001b[1;31mNameError\u001b[0m: name 'set1' is not defined"
     ]
    }
   ],
   "source": [
    "# Delete a set\n",
    "del set1\n",
    "print(set1)"
   ]
  },
  {
   "cell_type": "markdown",
   "metadata": {},
   "source": [
    "#### Copy a set"
   ]
  },
  {
   "cell_type": "code",
   "execution_count": 355,
   "metadata": {},
   "outputs": [
    {
     "name": "stdout",
     "output_type": "stream",
     "text": [
      "2628882994112 2628882994112\n",
      "2628882994112 2628882995456\n",
      "{1, 2, 3, 4, 5, 6}\n",
      "{1, 2, 3, 4, 5, 6}\n",
      "{1, 2, 3, 4, 5}\n"
     ]
    }
   ],
   "source": [
    "set1 = {1, 2, 3, 4, 5}\n",
    "set2 = set1\n",
    "print(id(set1), id(set2)) # Same reference\n",
    "set3 = set1.copy()\n",
    "print(id(set1), id(set3)) # Different reference\n",
    "set1.add(6)\n",
    "print(set1)\n",
    "print(set2)\n",
    "print(set3)\n"
   ]
  },
  {
   "cell_type": "markdown",
   "metadata": {},
   "source": [
    "#### Set Operations"
   ]
  },
  {
   "cell_type": "markdown",
   "metadata": {},
   "source": [
    "##### Union"
   ]
  },
  {
   "cell_type": "code",
   "execution_count": 359,
   "metadata": {},
   "outputs": [
    {
     "name": "stdout",
     "output_type": "stream",
     "text": [
      "{1, 2, 3, 4, 5, 6, 7, 8}\n",
      "{1, 2, 3, 4, 5}\n",
      "{1, 2, 3, 4, 5, 6, 7, 8}\n"
     ]
    }
   ],
   "source": [
    "A = {1, 2, 3}\n",
    "B = {3, 4, 5}\n",
    "C = {5, 6, 7, 8}\n",
    "# Union of A and B (All elements from both sets. NO DUPLICATES)\n",
    "print(A | B | C)\n",
    "print(A.union(B))\n",
    "print(A.union(B, C))\n"
   ]
  },
  {
   "cell_type": "markdown",
   "metadata": {},
   "source": [
    "##### Intersection"
   ]
  },
  {
   "cell_type": "code",
   "execution_count": 366,
   "metadata": {},
   "outputs": [
    {
     "name": "stdout",
     "output_type": "stream",
     "text": [
      "{3}\n",
      "{3}\n",
      "{3}\n"
     ]
    }
   ],
   "source": [
    "A = {1, 2, 3}\n",
    "B = {3, 4, 5}\n",
    "C = {5, 6, 7, 8}\n",
    "# Intersection of A and B (Common items in both sets)\n",
    "print(A & B) \n",
    "print(A.intersection(B))\n",
    "A.intersection_update(B)\n",
    "print(A)\n"
   ]
  },
  {
   "cell_type": "markdown",
   "metadata": {},
   "source": [
    "##### Difference"
   ]
  },
  {
   "cell_type": "code",
   "execution_count": 374,
   "metadata": {},
   "outputs": [
    {
     "name": "stdout",
     "output_type": "stream",
     "text": [
      "{1, 2}\n",
      "{1, 2}\n",
      "{1, 2, 3}\n",
      "{1, 2}\n"
     ]
    }
   ],
   "source": [
    "A = {1, 2, 3}\n",
    "B = {3, 4, 5}\n",
    "C = {5, 6, 7, 8}\n",
    "# set of elements that are only in B but not in A\n",
    "print(A - B)\n",
    "print(A.difference(B))\n",
    "print(A)\n",
    "A.difference_update(B)\n",
    "print(A)"
   ]
  },
  {
   "cell_type": "code",
   "execution_count": 373,
   "metadata": {},
   "outputs": [
    {
     "name": "stdout",
     "output_type": "stream",
     "text": [
      "{1, 2}\n",
      "{1, 2}\n",
      "{1, 2, 3}\n",
      "{1, 2}\n"
     ]
    }
   ],
   "source": [
    "A = {1, 2, 3}\n",
    "B = {3, 4, 5}\n",
    "C = {5, 6, 7, 8}\n",
    "# set of elements that are only in B but not in A\n",
    "print(A - B)\n",
    "print(A.difference(B))\n",
    "print(A)\n",
    "A.difference_update(B)\n",
    "print(A)"
   ]
  },
  {
   "cell_type": "markdown",
   "metadata": {},
   "source": [
    "##### Symmetric Difference"
   ]
  },
  {
   "cell_type": "code",
   "execution_count": 372,
   "metadata": {},
   "outputs": [
    {
     "name": "stdout",
     "output_type": "stream",
     "text": [
      "{1, 2, 4, 5}\n",
      "{1, 2, 4, 5}\n",
      "{1, 2, 3}\n",
      "{1, 2, 4, 5}\n"
     ]
    }
   ],
   "source": [
    "A = {1, 2, 3}\n",
    "B = {3, 4, 5}\n",
    "C = {5, 6, 7, 8}\n",
    "# Symmetric difference (Set of elements in A and B but not in both. \"EXCLUDED\")\n",
    "print(A ^ B)\n",
    "print(A.symmetric_difference(B))\n",
    "print(A)\n",
    "A.symmetric_difference_update(B)\n",
    "print(A)"
   ]
  },
  {
   "cell_type": "markdown",
   "metadata": {},
   "source": [
    "##### Subset, Superset & Disjoint"
   ]
  },
  {
   "cell_type": "code",
   "execution_count": 379,
   "metadata": {},
   "outputs": [
    {
     "name": "stdout",
     "output_type": "stream",
     "text": [
      "True\n",
      "True\n",
      "True\n",
      "False\n"
     ]
    }
   ],
   "source": [
    "A = {1, 2, 3, 4, 5, 6, 7, 8, 9}\n",
    "B = {3, 4, 5, 4, 5}\n",
    "C = {10, 20, 30}\n",
    "print(A.issuperset(B)) # A is superset if it contains all elements of B\n",
    "print(B.issubset(A)) # B is subset is all elements are available in A\n",
    "print(C.isdisjoint(A)) # C is disjoint of A since there are no common elements\n",
    "print(B.isdisjoint(A))"
   ]
  },
  {
   "cell_type": "markdown",
   "metadata": {},
   "source": [
    "##### Other Built-In Functions"
   ]
  },
  {
   "cell_type": "code",
   "execution_count": 383,
   "metadata": {},
   "outputs": [
    {
     "name": "stdout",
     "output_type": "stream",
     "text": [
      "1\n",
      "9\n",
      "45\n",
      "9\n"
     ]
    }
   ],
   "source": [
    "A = {1, 2, 3, 4, 5, 6, 7, 8, 9}\n",
    "B = {3, 4, 5, 4, 5}\n",
    "C = {10, 20, 30}\n",
    "print(min(A))\n",
    "print(max(A))\n",
    "print(sum(A))\n",
    "print(len(A))\n"
   ]
  },
  {
   "cell_type": "markdown",
   "metadata": {},
   "source": [
    "### Dictionary"
   ]
  },
  {
   "cell_type": "markdown",
   "metadata": {},
   "source": [
    "Dictionary is a mutable data type in Python. </br>\n",
    "A python dictionary is a collection of key and value pairs separated by a colon (:) & enclosedin curly braces {}.</br>\n",
    "Keys must be unique in a dictionary, duplicate values are allowed.</br>"
   ]
  },
  {
   "cell_type": "markdown",
   "metadata": {},
   "source": [
    "##### Create Dictionary"
   ]
  },
  {
   "cell_type": "code",
   "execution_count": 385,
   "metadata": {},
   "outputs": [
    {
     "name": "stdout",
     "output_type": "stream",
     "text": [
      "{}\n",
      "{}\n"
     ]
    }
   ],
   "source": [
    "dict1 = dict()\n",
    "print(dict1)\n",
    "dict1 = {}\n",
    "print(dict1)"
   ]
  },
  {
   "cell_type": "code",
   "execution_count": 6,
   "metadata": {},
   "outputs": [
    {
     "name": "stdout",
     "output_type": "stream",
     "text": [
      "{1: 'one', 2: 'two', 3: 'three', 4: 'four', 5: 'five'}\n",
      "{1: 'one', 2: 'two', 3: 'three', 4: 'four', 5: 'five'}\n"
     ]
    }
   ],
   "source": [
    "# Dictionary with integer keys\n",
    "dict1 = {1: 'one', 2: 'two', 3: 'three', 4: 'four', 5: 'five'}\n",
    "print(dict1)\n",
    "# Dictionary with integer keys using dict method\n",
    "dict1 = dict({1: 'one', 2: 'two', 3: 'three', 4: 'four', 5: 'five'})\n",
    "print(dict1)"
   ]
  },
  {
   "cell_type": "code",
   "execution_count": 7,
   "metadata": {},
   "outputs": [
    {
     "name": "stdout",
     "output_type": "stream",
     "text": [
      "{'A': 'Apple', 'B': 'Ball', 'C': 'Cat', 'D': 'Dog', 'E': 'Elephant'}\n",
      "{'A': 'Apple', 'B': 'Ball', 'C': 'Cat', 'D': 'Dog', 'E': 'Elephant'}\n"
     ]
    }
   ],
   "source": [
    "# Dictionary with character keys\n",
    "dict1 = {'A': 'Apple', 'B': 'Ball', 'C': 'Cat', 'D': 'Dog', 'E': 'Elephant'}\n",
    "print(dict1)\n",
    "# Dictionary with character keys using dict method\n",
    "dict1 = dict({'A': 'Apple', 'B': 'Ball', 'C': 'Cat', 'D': 'Dog', 'E': 'Elephant'})\n",
    "print(dict1)"
   ]
  },
  {
   "cell_type": "code",
   "execution_count": 11,
   "metadata": {},
   "outputs": [
    {
     "name": "stdout",
     "output_type": "stream",
     "text": [
      "{1: 'one', 'A': {'Apple', 'Axe'}, 'B': ('Ball', 'Box'), 'C': ['Cat', 'Cartoon']}\n"
     ]
    }
   ],
   "source": [
    "# Dictionary with mixed keys and values\n",
    "dict1 = {1: 'one', 'A': {'Apple', 'Axe'}, 'B': ('Ball', 'Box'), 'C': ['Cat', 'Cartoon']}\n",
    "print(dict1)"
   ]
  },
  {
   "cell_type": "code",
   "execution_count": 12,
   "metadata": {},
   "outputs": [
    {
     "name": "stdout",
     "output_type": "stream",
     "text": [
      "dict_keys([1, 'A', 'B', 'C'])\n",
      "dict_values(['one', {'Apple', 'Axe'}, ('Ball', 'Box'), ['Cat', 'Cartoon']])\n",
      "dict_items([(1, 'one'), ('A', {'Apple', 'Axe'}), ('B', ('Ball', 'Box')), ('C', ['Cat', 'Cartoon'])])\n"
     ]
    }
   ],
   "source": [
    "print(dict1.keys())\n",
    "print(dict1.values())\n",
    "print(dict1.items())\n"
   ]
  },
  {
   "cell_type": "code",
   "execution_count": 20,
   "metadata": {},
   "outputs": [
    {
     "name": "stdout",
     "output_type": "stream",
     "text": [
      "{1: None, 2: None, 3: None, 4: None, 5: None}\n",
      "{1: 10, 2: 10, 3: 10, 4: 10, 5: 10}\n",
      "{1: [10, 20, 30], 2: [10, 20, 30], 3: [10, 20, 30], 4: [10, 20, 30], 5: [10, 20, 30]}\n",
      "{1: [10, 20, 30, 40], 2: [10, 20, 30, 40], 3: [10, 20, 30, 40], 4: [10, 20, 30, 40], 5: [10, 20, 30, 40]}\n"
     ]
    }
   ],
   "source": [
    "keys = {1, 2, 3, 4, 5} # Set of keys\n",
    "dict2 = dict.fromkeys(keys) # None is assigned if there are no values supplied.\n",
    "print(dict2)\n",
    "value = 10\n",
    "dict3 = dict.fromkeys(keys, value) # Passing the value when creating a dictionary\n",
    "print(dict3)\n",
    "list1 = [10, 20, 30]\n",
    "dict4 = dict.fromkeys(keys, list1)\n",
    "print(dict4)\n",
    "list1.append(40) # Updated the reference in dictionary\n",
    "print(dict4)"
   ]
  },
  {
   "cell_type": "markdown",
   "metadata": {},
   "source": [
    "##### Accessing Items"
   ]
  },
  {
   "cell_type": "code",
   "execution_count": 25,
   "metadata": {},
   "outputs": [
    {
     "name": "stdout",
     "output_type": "stream",
     "text": [
      "{1: 'one', 2: 'two', 3: 'three', 4: 'four', 5: 'five'}\n",
      "one\n",
      "two\n"
     ]
    }
   ],
   "source": [
    "dict1 = {1: 'one', 2: 'two', 3: 'three', 4: 'four', 5: 'five'}\n",
    "print(dict1)\n",
    "print(dict1[1]) # Access with the keys\n",
    "print(dict1.get(2)) # Access with the get method"
   ]
  },
  {
   "cell_type": "markdown",
   "metadata": {},
   "source": [
    "##### Add or Change Items"
   ]
  },
  {
   "cell_type": "code",
   "execution_count": 34,
   "metadata": {},
   "outputs": [
    {
     "name": "stdout",
     "output_type": "stream",
     "text": [
      "{'A': 'Apple', 'B': 'Ball', 'C': 'Cat', 'D': 'Dog', 'E': 'Elephant'}\n",
      "{'A': 'Apple', 'B': 'Basket', 'C': 'Cat', 'D': 'Dog', 'E': 'Elephant'}\n",
      "{'A': 'Apple', 'B': 'Basket', 'C': 'Cat', 'D': 'Dog', 'E': 'Elephant', 'F': 'Forest'}\n",
      "{'A': 'Apple', 'B': 'Basket', 'C': 'Cat', 'D': 'Dog', 'E': 'Elephant', 'F': 'Food', 'G': 'Gallery'}\n"
     ]
    }
   ],
   "source": [
    "dict1 = {'A': 'Apple', 'B': 'Ball', 'C': 'Cat', 'D': 'Dog', 'E': 'Elephant'}\n",
    "print(dict1)\n",
    "dict1['B'] = 'Basket' # Updating a dictionary key value\n",
    "print(dict1)\n",
    "dict1['F'] = 'Forest' # Update adds a new item if not available and updates if available\n",
    "print(dict1)\n",
    "dict2 = {'F': 'Food', 'G': 'Gallery'}\n",
    "dict1.update(dict2) # Update adds a new item if not available and updates if available\n",
    "print(dict1)\n"
   ]
  },
  {
   "cell_type": "markdown",
   "metadata": {},
   "source": [
    "#### Remove Items"
   ]
  },
  {
   "cell_type": "code",
   "execution_count": 45,
   "metadata": {},
   "outputs": [
    {
     "name": "stdout",
     "output_type": "stream",
     "text": [
      "{'A': 'Apple', 'B': 'Ball', 'C': 'Cat', 'D': 'Dog'}\n",
      "{'A': 'Apple', 'B': 'Ball', 'C': 'Cat'}\n",
      "{'A': 'Apple', 'B': 'Ball'}\n",
      "{}\n"
     ]
    },
    {
     "ename": "NameError",
     "evalue": "name 'dict1' is not defined",
     "output_type": "error",
     "traceback": [
      "\u001b[1;31m---------------------------------------------------------------------------\u001b[0m",
      "\u001b[1;31mNameError\u001b[0m                                 Traceback (most recent call last)",
      "\u001b[1;32md:\\Projects\\Python\\PythonBasics.ipynb Cell 210'\u001b[0m in \u001b[0;36m<cell line: 11>\u001b[1;34m()\u001b[0m\n\u001b[0;32m      <a href='vscode-notebook-cell:/d%3A/Projects/Python/PythonBasics.ipynb#ch0000215?line=8'>9</a>\u001b[0m \u001b[39mprint\u001b[39m(dict1)\n\u001b[0;32m     <a href='vscode-notebook-cell:/d%3A/Projects/Python/PythonBasics.ipynb#ch0000215?line=9'>10</a>\u001b[0m \u001b[39mdel\u001b[39;00m dict1\n\u001b[1;32m---> <a href='vscode-notebook-cell:/d%3A/Projects/Python/PythonBasics.ipynb#ch0000215?line=10'>11</a>\u001b[0m \u001b[39mprint\u001b[39m(dict1)\n",
      "\u001b[1;31mNameError\u001b[0m: name 'dict1' is not defined"
     ]
    }
   ],
   "source": [
    "dict1 = {'A': 'Apple', 'B': 'Ball', 'C': 'Cat', 'D': 'Dog', 'E': 'Elephant'}\n",
    "dict1.pop('E') # Removes the item with keys\n",
    "print(dict1)\n",
    "dict1.popitem() # Removes the last item\n",
    "print(dict1)\n",
    "del[dict1['C']] # Removing item with del\n",
    "print(dict1)\n",
    "dict1.clear() # Removing all items with clear()\n",
    "print(dict1)\n",
    "del dict1 # Deleting the dictionary with del\n",
    "print(dict1)"
   ]
  },
  {
   "cell_type": "markdown",
   "metadata": {},
   "source": [
    "#### Copy Dictionary"
   ]
  },
  {
   "cell_type": "code",
   "execution_count": 53,
   "metadata": {},
   "outputs": [
    {
     "name": "stdout",
     "output_type": "stream",
     "text": [
      "{'A': 'Apple', 'B': 'Brain', 'C': 'Cat', 'D': 'Dog', 'E': 'Elephant'} 0x18c0e52f040\n",
      "{'A': 'Apple', 'B': 'Brain', 'C': 'Cat', 'D': 'Dog', 'E': 'Elephant'} 0x18c0e52f040\n",
      "{'A': 'Apple', 'B': 'Ball', 'C': 'Cat', 'D': 'Dog', 'E': 'Elephant'} 0x18c0e434f40\n"
     ]
    }
   ],
   "source": [
    "dict1 = {'A': 'Apple', 'B': 'Ball', 'C': 'Cat', 'D': 'Dog', 'E': 'Elephant'}\n",
    "dict2 = dict1 # Same reference\n",
    "dict3 = dict1.copy() # Different reference\n",
    "dict1['B'] = 'Brain'\n",
    "\n",
    "print(dict1, hex(id(dict1)))\n",
    "print(dict2, hex(id(dict2))) # This is updated since the reference is same\n",
    "print(dict3, hex(id(dict3))) # This is not updated since the reference is different"
   ]
  },
  {
   "cell_type": "markdown",
   "metadata": {},
   "source": [
    "#### Loop through a dictionary"
   ]
  },
  {
   "cell_type": "code",
   "execution_count": 63,
   "metadata": {},
   "outputs": [
    {
     "name": "stdout",
     "output_type": "stream",
     "text": [
      "A\n",
      "B\n",
      "C\n",
      "D\n",
      "E\n",
      "Apple\n",
      "Ball\n",
      "Cat\n",
      "Dog\n",
      "Elephant\n",
      "('A', 'Apple')\n",
      "('B', 'Ball')\n",
      "('C', 'Cat')\n",
      "('D', 'Dog')\n",
      "('E', 'Elephant')\n",
      "['A', 'Apple']\n",
      "['B', 'Ball']\n",
      "['C', 'Cat']\n",
      "['D', 'Dog']\n",
      "['E', 'Elephant']\n"
     ]
    }
   ],
   "source": [
    "dict1 = {'A': 'Apple', 'B': 'Ball', 'C': 'Cat', 'D': 'Dog', 'E': 'Elephant'}\n",
    "\n",
    "# Printing only the keys\n",
    "for i in dict1.keys():\n",
    "    print(i)\n",
    "    \n",
    "# Printing only the values\n",
    "for i in dict1.values():\n",
    "    print(i)\n",
    "    \n",
    "# Printing keys and values\n",
    "for i in dict1.items():\n",
    "    print(i)\n",
    "\n",
    "# Printing keys and values as list\n",
    "for i in dict1.keys():\n",
    "    print([i, dict1[i]])\n"
   ]
  },
  {
   "cell_type": "markdown",
   "metadata": {},
   "source": [
    "#### Dictionary Membership"
   ]
  },
  {
   "cell_type": "code",
   "execution_count": 66,
   "metadata": {},
   "outputs": [
    {
     "name": "stdout",
     "output_type": "stream",
     "text": [
      "True\n",
      "False\n"
     ]
    }
   ],
   "source": [
    "dict1 = {'A': 'Apple', 'B': 'Ball', 'C': 'Cat', 'D': 'Dog', 'E': 'Elephant'}\n",
    "print('A' in dict1) \n",
    "print('Apple' in dict1) # Only the keys can be checked in dictionary membership"
   ]
  },
  {
   "cell_type": "markdown",
   "metadata": {},
   "source": [
    "#### All / Any"
   ]
  },
  {
   "cell_type": "code",
   "execution_count": 75,
   "metadata": {},
   "outputs": [
    {
     "name": "stdout",
     "output_type": "stream",
     "text": [
      "True\n",
      "True\n",
      "{1: 'one', 2: 'two', 3: 'three', 4: 'four', 5: 'five', 0: 1}\n",
      "False\n",
      "True\n"
     ]
    }
   ],
   "source": [
    "dict1 = {1: 'one', 2: 'two', 3: 'three', 4: 'four', 5: 'five'}\n",
    "print(all(dict1)) # Prints true if all keys are truthy\n",
    "print(any(dict1)) # Prints true if any one of the keys is truthy\n",
    "dict1.update({0: 1})\n",
    "print(dict1)\n",
    "print(all(dict1))\n",
    "print(any(dict1))"
   ]
  },
  {
   "cell_type": "markdown",
   "metadata": {},
   "source": [
    "#### Dictionary Comprehension"
   ]
  },
  {
   "cell_type": "code",
   "execution_count": 100,
   "metadata": {},
   "outputs": [
    {
     "name": "stdout",
     "output_type": "stream",
     "text": [
      "{1: 'one', 2: 'two', 3: 'three', 4: 'four', 5: 'five'}\n",
      "{1: 'one - 1', 2: 'two - 2', 3: 'three - 3', 4: 'four - 4', 5: 'five - 5'}\n",
      "{0: 0, 1: 1, 2: 4, 3: 9, 4: 16, 5: 25, 6: 36, 7: 49, 8: 64, 9: 81}\n",
      "{'one': 1, 'two': 2, 'three': 3, 'four': 4, 'five': 5}\n",
      "{'one': 0.1, 'two': 0.2, 'three': 0.3, 'four': 0.4, 'five': 0.5}\n",
      "{0: 'H', 1: 'e', 2: 'l', 3: 'l', 4: 'o', 5: ' ', 6: 'P', 7: 'y', 8: 't', 9: 'h', 10: 'o', 11: 'n'}\n"
     ]
    }
   ],
   "source": [
    "dict1 = {1: 'one', 2: 'two', 3: 'three', 4: 'four', 5: 'five'}\n",
    "print(dict1)\n",
    "print({i: dict1[i] + ' - ' + str(i) for i in dict1.keys()})\n",
    "print({i: i * i for i in range(10)}) # Dictionary of squares\n",
    "\n",
    "keys = ['one', 'two', 'three', 'four', 'five']\n",
    "values = (1, 2, 3, 4, 5)\n",
    "dict1 = {k:v for (k, v) in zip(keys, values)} # Combining a tuple and list to create a dictionary\n",
    "print(dict1)\n",
    "dict2 = {k:v/10 for (k,v) in dict1.items()} # Dividing each item in a dictionary\n",
    "print(dict2)\n",
    "str1 = 'Hello Python'\n",
    "dict3 = {k:v for (k,v) in enumerate(str1)} # Index and the character in dictionary\n",
    "print(dict3)\n",
    "dict4 = {i:i.upper() for i in str1} # Convert to upper and store in dictionary"
   ]
  },
  {
   "cell_type": "code",
   "execution_count": 105,
   "metadata": {},
   "outputs": [
    {
     "name": "stdout",
     "output_type": "stream",
     "text": [
      "['one', 'two', 'three', 'four', 'one', 'two', 'two', 'three', 'five', 'five', 'six', 'seven', 'six', 'seven', 'one']\n",
      "{'four', 'two', 'five', 'six', 'three', 'seven', 'one'}\n",
      "{'four': 0, 'two': 0, 'five': 0, 'six': 0, 'three': 0, 'seven': 0, 'one': 0}\n",
      "{'four': 1, 'two': 3, 'five': 2, 'six': 2, 'three': 2, 'seven': 2, 'one': 3}\n"
     ]
    }
   ],
   "source": [
    "# Word frequency using dictionary\n",
    "str1 = 'one two three four one two two three five five six seven six seven one'\n",
    "list1 = str1.split()\n",
    "print(list1)\n",
    "set1 = set(list1)\n",
    "print(set1)\n",
    "initial_count = 0\n",
    "word_freq_dict1 = {i: initial_count for i in set1}\n",
    "print(word_freq_dict1)\n",
    "for i in set1:\n",
    "    for j in list1:\n",
    "        if(i == j):\n",
    "            word_freq_dict1[i] = word_freq_dict1[i]+1\n",
    "\n",
    "print(word_freq_dict1)\n",
    "            \n",
    "            \n",
    "            "
   ]
  },
  {
   "cell_type": "markdown",
   "metadata": {},
   "source": [
    "## Operators"
   ]
  },
  {
   "cell_type": "markdown",
   "metadata": {},
   "source": [
    "Operators are special symbols in Python which are used to perform operations on variables/values."
   ]
  },
  {
   "cell_type": "markdown",
   "metadata": {},
   "source": [
    "### Arithmetic Operators "
   ]
  },
  {
   "cell_type": "code",
   "execution_count": 110,
   "metadata": {},
   "outputs": [
    {
     "name": "stdout",
     "output_type": "stream",
     "text": [
      "10 20 30 40 50\n"
     ]
    }
   ],
   "source": [
    "a = 10\n",
    "b = 20\n",
    "c = 30\n",
    "d = 40\n",
    "e = 50\n",
    "print(a, b, c, d, e)\n"
   ]
  },
  {
   "cell_type": "code",
   "execution_count": 111,
   "metadata": {},
   "outputs": [
    {
     "name": "stdout",
     "output_type": "stream",
     "text": [
      "Adding 10 and 20 will give 30\n",
      "Subracting 10 and 20 will give -10\n",
      "Multiplying 10 and 20 will give 200\n",
      "Dividing 10 and 20 will give 0.5\n",
      "Modulo of 10 and 20 will give 10\n",
      "10 power 20 will give 100000000000000000000\n",
      "Floor division of 10 and 20 will give 0\n"
     ]
    }
   ],
   "source": [
    "print('Adding {} and {} will give {}'.format(a, b, a + b))\n",
    "print('Subracting {} and {} will give {}'.format(a, b, a - b))\n",
    "print('Multiplying {} and {} will give {}'.format(a, b, a * b))\n",
    "print('Dividing {} and {} will give {}'.format(a, b, a / b))\n",
    "print('Modulo of {} and {} will give {}'.format(a, b, a % b))\n",
    "print('{} power {} will give {}'.format(a, b, a ** b))\n",
    "print('Floor division of {} and {} will give {}'.format(a, b, a // b))"
   ]
  },
  {
   "cell_type": "markdown",
   "metadata": {},
   "source": [
    "### Comparison Operators"
   ]
  },
  {
   "cell_type": "code",
   "execution_count": 117,
   "metadata": {},
   "outputs": [
    {
     "name": "stdout",
     "output_type": "stream",
     "text": [
      "Is 10 greater than 20: False\n",
      "Is 10 less than 20: True\n",
      "Is 10 equals to 20: False\n",
      "Is 10 not equals to 20: True\n",
      "Is 10 greater than or equal to 20: False\n",
      "Is 10 less than or equal to 20: True\n",
      "Is Apple equals to Orange: False\n",
      "Is Apple equals to Apple: True\n",
      "Is Apple equals to apple: False\n"
     ]
    }
   ],
   "source": [
    "print('Is {} greater than {}: {}'.format(a, b, a > b))\n",
    "print('Is {} less than {}: {}'.format(a, b, a < b))\n",
    "print('Is {} equals to {}: {}'.format(a, b, a == b))\n",
    "print('Is {} not equals to {}: {}'.format(a, b, a != b))\n",
    "print('Is {} greater than or equal to {}: {}'.format(a, b, a >= b))\n",
    "print('Is {} less than or equal to {}: {}'.format(a, b, a <= b))"
   ]
  },
  {
   "cell_type": "code",
   "execution_count": 118,
   "metadata": {},
   "outputs": [
    {
     "name": "stdout",
     "output_type": "stream",
     "text": [
      "Is Apple equals to Orange: False\n",
      "Is Apple equals to Apple: True\n",
      "Is Apple equals to apple: False\n"
     ]
    }
   ],
   "source": [
    "# String comparison\n",
    "str1 = 'Apple'\n",
    "str2 = 'Orange'\n",
    "str3 = 'Apple'\n",
    "str4 = 'apple'\n",
    "print('Is {} equals to {}: {}'.format(str1, str2, str1 == str2))\n",
    "print('Is {} equals to {}: {}'.format(str1, str3, str1 == str3))\n",
    "print('Is {} equals to {}: {}'.format(str1, str4, str1 == str4)) # Case sensitive"
   ]
  },
  {
   "cell_type": "markdown",
   "metadata": {},
   "source": [
    "### Assignment Operators"
   ]
  },
  {
   "cell_type": "code",
   "execution_count": 135,
   "metadata": {},
   "outputs": [
    {
     "name": "stdout",
     "output_type": "stream",
     "text": [
      "10\n",
      "20\n",
      "0\n",
      "100\n",
      "1.0\n",
      "10000000000\n",
      "1\n",
      "0\n"
     ]
    }
   ],
   "source": [
    "x = 10\n",
    "print(x)\n",
    "\n",
    "x = 10\n",
    "x += 10\n",
    "print(x)\n",
    "\n",
    "x = 10\n",
    "x -= 10\n",
    "print(x)\n",
    "\n",
    "x = 10\n",
    "x *= 10\n",
    "print(x)\n",
    "\n",
    "x = 10\n",
    "x /= 10\n",
    "print(x)\n",
    "\n",
    "x = 10\n",
    "x **= 10\n",
    "print(x)\n",
    "\n",
    "x = 10\n",
    "x //= 10\n",
    "print(x)\n",
    "\n",
    "x = 10\n",
    "x %= 10\n",
    "print(x)"
   ]
  },
  {
   "cell_type": "code",
   "execution_count": 137,
   "metadata": {},
   "outputs": [
    {
     "name": "stdout",
     "output_type": "stream",
     "text": [
      "2\n",
      "10\n",
      "8\n",
      "40\n",
      "2\n"
     ]
    }
   ],
   "source": [
    "# Bitwise assignment operations\n",
    "y = 10\n",
    "y &= 2\n",
    "print(y)\n",
    "\n",
    "y = 10\n",
    "y |= 2\n",
    "print(y)\n",
    "\n",
    "y = 10\n",
    "y ^= 2\n",
    "print(y)\n",
    "\n",
    "y = 10\n",
    "y <<= 2\n",
    "print(y)\n",
    "\n",
    "y = 10\n",
    "y >>= 2\n",
    "print(y)"
   ]
  },
  {
   "cell_type": "markdown",
   "metadata": {},
   "source": [
    "### Membership Operators"
   ]
  },
  {
   "cell_type": "code",
   "execution_count": 139,
   "metadata": {},
   "outputs": [
    {
     "name": "stdout",
     "output_type": "stream",
     "text": [
      "True\n",
      "True\n"
     ]
    }
   ],
   "source": [
    "str1 = 'Hello Python'\n",
    "print('Python' in str1)\n",
    "print('Java' not in str1)"
   ]
  },
  {
   "cell_type": "markdown",
   "metadata": {},
   "source": [
    "## Functions"
   ]
  },
  {
   "cell_type": "markdown",
   "metadata": {},
   "source": [
    "A function is a block of organized code written to carry out a specified task. </br>\n",
    "Functions help break our program into smaller and modular chunks for better readability. </br>\n",
    "Information can be passed into a function as arguments. </br>\n",
    "Parameters are specified after the function name inside the parentheses. </br>\n",
    "We can add as many parameters as we want. Parameters must be separated with a comma. </br>\n",
    "A function may or may not return data. </br>\n",
    "In Python a function is defined using the <b>def</b> keyword"
   ]
  },
  {
   "cell_type": "markdown",
   "metadata": {},
   "source": [
    "### Parameter vs Argument"
   ]
  },
  {
   "cell_type": "markdown",
   "metadata": {},
   "source": [
    "A parameter is the variable listed inside the parentheses in the function definition. </br>\n",
    "An argument is the value that is sent to the function when it is called."
   ]
  },
  {
   "cell_type": "markdown",
   "metadata": {},
   "source": [
    "### Types of functions"
   ]
  },
  {
   "cell_type": "markdown",
   "metadata": {},
   "source": [
    "<b>Built-in function</b>\n",
    "Python predefined functions that are readily available for use like min() ,max() , sum() , print() etc.</br>\n",
    "<b>User-Defined Functions</b>\n",
    "Function that we define ourselves to perform a specific task.</br>\n",
    "<b>Anonymous functions</b>\n",
    "Function that is defined without a name. Anonymous functions are also called as lambda functions.\n",
    "They are not declared with the def keyword."
   ]
  }
 ],
 "metadata": {
  "interpreter": {
   "hash": "7b7e0a8c9ff043c060aedb818728f6f6da4174339a068fb6178fbfc4d265092d"
  },
  "kernelspec": {
   "display_name": "Python 3.9.7 64-bit",
   "language": "python",
   "name": "python3"
  },
  "language_info": {
   "codemirror_mode": {
    "name": "ipython",
    "version": 3
   },
   "file_extension": ".py",
   "mimetype": "text/x-python",
   "name": "python",
   "nbconvert_exporter": "python",
   "pygments_lexer": "ipython3",
   "version": "3.9.7"
  },
  "orig_nbformat": 4
 },
 "nbformat": 4,
 "nbformat_minor": 2
}
